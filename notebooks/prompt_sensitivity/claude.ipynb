{
  "cells": [
    {
      "cell_type": "markdown",
      "metadata": {
        "id": "view-in-github",
        "colab_type": "text"
      },
      "source": [
        "<a href=\"https://colab.research.google.com/github/wesslen/llm-experiments/blob/main/notebooks/prompt_sensitivity/claude.ipynb\" target=\"_parent\"><img src=\"https://colab.research.google.com/assets/colab-badge.svg\" alt=\"Open In Colab\"/></a>"
      ]
    },
    {
      "cell_type": "markdown",
      "metadata": {
        "id": "YgFUP4lGonmQ"
      },
      "source": [
        "# Prompt Sensitivity Experiment with DSPy and Claude\n",
        "\n",
        "This notebook explores how small changes in prompts affect Claude's responses using DSPy. We'll test variations in spacing, punctuation, and minor wording changes to analyze the model's sensitivity to prompt formatting."
      ]
    },
    {
      "cell_type": "code",
      "source": [
        "%%capture\n",
        "!uv pip install --system dspy"
      ],
      "metadata": {
        "id": "Ru4fVGzsowK1"
      },
      "execution_count": 1,
      "outputs": []
    },
    {
      "cell_type": "code",
      "execution_count": 3,
      "metadata": {
        "id": "vXy69x0DonmS"
      },
      "source": [
        "import dspy\n",
        "import pandas as pd\n",
        "import numpy as np\n",
        "from typing import List, Dict\n",
        "import json\n",
        "from datetime import datetime\n",
        "\n",
        "from google.colab import userdata\n",
        "\n",
        "# Configure DSPy with Claude\n",
        "api_key = userdata.get('ANTHROPIC_API_KEY')\n",
        "lm = dspy.LM('anthropic/claude-3-opus-20240229', api_key=api_key)\n",
        "dspy.configure(lm=lm)"
      ],
      "outputs": []
    },
    {
      "cell_type": "markdown",
      "metadata": {
        "id": "DKQu1qcEonmT"
      },
      "source": [
        "## Define Prompt Variations\n",
        "\n",
        "We'll create a set of prompt variations to test different aspects of formatting sensitivity."
      ]
    },
    {
      "cell_type": "code",
      "execution_count": 4,
      "metadata": {
        "id": "UjYbvsx9onmT"
      },
      "source": [
        "from typing import List, Dict, Union\n",
        "import json\n",
        "import pandas as pd\n",
        "from datetime import datetime\n",
        "import dspy\n",
        "from difflib import SequenceMatcher\n",
        "from IPython.display import HTML\n",
        "\n",
        "class PromptTemplate(dspy.Signature):\n",
        "    '''Template for generating responses to prompt variations'''\n",
        "    context = dspy.InputField()\n",
        "    prompt = dspy.InputField()\n",
        "    response = dspy.OutputField()\n",
        "\n",
        "class PromptExperiment:\n",
        "    def __init__(self, base_prompt: str):\n",
        "        self.base_prompt = base_prompt\n",
        "        self.results = []\n",
        "\n",
        "    def generate_variations(self) -> List[Dict]:\n",
        "        '''Generate various prompt modifications'''\n",
        "        variations = [\n",
        "            # Original prompt\n",
        "            {\"type\": \"original\", \"prompt\": self.base_prompt},\n",
        "\n",
        "            # Extra spacing variations\n",
        "            {\"type\": \"extra_space_start\", \"prompt\": f\" {self.base_prompt}\"},\n",
        "            {\"type\": \"extra_space_end\", \"prompt\": f\"{self.base_prompt} \"},\n",
        "            {\"type\": \"double_space\", \"prompt\": self.base_prompt.replace(\" \", \"  \")},\n",
        "\n",
        "            # Punctuation variations\n",
        "            {\"type\": \"add_period\", \"prompt\": f\"{self.base_prompt}.\"},\n",
        "            {\"type\": \"add_question\", \"prompt\": f\"{self.base_prompt}?\"},\n",
        "            {\"type\": \"add_exclamation\", \"prompt\": f\"{self.base_prompt}!\"},\n",
        "\n",
        "            # Capitalization variations\n",
        "            {\"type\": \"all_caps\", \"prompt\": self.base_prompt.upper()},\n",
        "            {\"type\": \"all_lower\", \"prompt\": self.base_prompt.lower()},\n",
        "\n",
        "            # Word boundary variations\n",
        "            {\"type\": \"no_spaces\", \"prompt\": self.base_prompt.replace(\" \", \"\")},\n",
        "            {\"type\": \"extra_newline\", \"prompt\": f\"\\n{self.base_prompt}\\n\"}\n",
        "        ]\n",
        "        return variations\n",
        "\n",
        "    def run_experiment(self, context: str = \"\"):\n",
        "        '''Run the experiment with all prompt variations'''\n",
        "        variations = self.generate_variations()\n",
        "        program = dspy.Predict(PromptTemplate)\n",
        "\n",
        "        for var in variations:\n",
        "            try:\n",
        "                # Get response from Claude\n",
        "                result = program(context=context, prompt=var[\"prompt\"])\n",
        "\n",
        "                # Store results\n",
        "                self.results.append({\n",
        "                    \"variation_type\": var[\"type\"],\n",
        "                    \"prompt\": var[\"prompt\"],\n",
        "                    \"response\": result.response,\n",
        "                    \"timestamp\": datetime.now().isoformat()\n",
        "                })\n",
        "            except Exception as e:\n",
        "                print(f\"Error with variation {var['type']}: {str(e)}\")\n",
        "\n",
        "    def analyze_results(self) -> pd.DataFrame:\n",
        "        '''Analyze the results of the experiment'''\n",
        "        df = pd.DataFrame(self.results)\n",
        "\n",
        "        # Add basic analytics\n",
        "        df['response_length'] = df['response'].str.len()\n",
        "        df['word_count'] = df['response'].str.split().str.len()\n",
        "\n",
        "        # Calculate response similarity scores\n",
        "        base_response = df[df['variation_type'] == 'original']['response'].iloc[0]\n",
        "\n",
        "        return df\n",
        "\n",
        "    def save_results(self, filename: str):\n",
        "        '''Save results to JSON file'''\n",
        "        with open(filename, 'w') as f:\n",
        "            json.dump(self.results, f, indent=2)\n",
        "\n",
        "    def _split_into_tokens(self, text: str) -> list:\n",
        "        \"\"\"Split text into tokens (words and spaces).\"\"\"\n",
        "        return [token for token in text.replace('\\n', ' \\n ').split(' ') if token]\n",
        "\n",
        "    def _create_diff_spans(self, a: list, b: list) -> tuple[list, list]:\n",
        "        \"\"\"Create HTML spans for diff visualization with proper spacing.\"\"\"\n",
        "        matcher = SequenceMatcher(None, a, b)\n",
        "        old_spans = []\n",
        "        new_spans = []\n",
        "\n",
        "        def add_space_after_span(spans: list, is_last: bool = False):\n",
        "            \"\"\"Add space after span unless it's the last one or already ends with space\"\"\"\n",
        "            if not is_last and not spans[-1].endswith(' </span>'):\n",
        "                spans.append('<span> </span>')\n",
        "\n",
        "        for idx, (tag, i1, i2, j1, j2) in enumerate(matcher.get_opcodes()):\n",
        "            is_last = idx == len(matcher.get_opcodes()) - 1\n",
        "\n",
        "            if tag == 'equal':\n",
        "                span_text = ' '.join(a[i1:i2])\n",
        "                old_spans.append(f'<span>{span_text}</span>')\n",
        "                new_spans.append(f'<span>{span_text}</span>')\n",
        "                add_space_after_span(old_spans, is_last)\n",
        "                add_space_after_span(new_spans, is_last)\n",
        "\n",
        "            elif tag == 'delete':\n",
        "                span_text = ' '.join(a[i1:i2])\n",
        "                old_spans.append(f'<span style=\"background-color: #ffdce0\">{span_text}</span>')\n",
        "                add_space_after_span(old_spans, is_last)\n",
        "\n",
        "            elif tag == 'insert':\n",
        "                span_text = ' '.join(b[j1:j2])\n",
        "                new_spans.append(f'<span style=\"background-color: #cdffd8\">{span_text}</span>')\n",
        "                add_space_after_span(new_spans, is_last)\n",
        "\n",
        "            elif tag == 'replace':\n",
        "                old_span_text = ' '.join(a[i1:i2])\n",
        "                new_span_text = ' '.join(b[j1:j2])\n",
        "                old_spans.append(f'<span style=\"background-color: #ffdce0\">{old_span_text}</span>')\n",
        "                new_spans.append(f'<span style=\"background-color: #cdffd8\">{new_span_text}</span>')\n",
        "                add_space_after_span(old_spans, is_last)\n",
        "                add_space_after_span(new_spans, is_last)\n",
        "\n",
        "        return old_spans, new_spans\n",
        "\n",
        "    def display_diff(self, modified_variation: Union[str, int], reference_variation: str = \"original\") -> HTML:\n",
        "        \"\"\"\n",
        "        Generate an HTML visualization of the differences between two experiment variations.\n",
        "\n",
        "        Args:\n",
        "            modified_variation: Either the variation_type (str) or index (int) of the modified version\n",
        "            reference_variation: variation_type of the reference version (default: \"original\")\n",
        "\n",
        "        Returns:\n",
        "            IPython.display.HTML: HTML-formatted diff visualization\n",
        "        \"\"\"\n",
        "        # Find reference version\n",
        "        reference_result = next(r for r in self.results if r[\"variation_type\"] == reference_variation)\n",
        "\n",
        "        # Find modified version\n",
        "        if isinstance(modified_variation, str):\n",
        "            modified_result = next(r for r in self.results if r[\"variation_type\"] == modified_variation)\n",
        "        else:  # modified_variation is an index\n",
        "            modified_result = self.results[modified_variation]\n",
        "\n",
        "        # Split responses into tokens\n",
        "        old_tokens = self._split_into_tokens(reference_result[\"response\"])\n",
        "        new_tokens = self._split_into_tokens(modified_result[\"response\"])\n",
        "\n",
        "        # Generate diff spans\n",
        "        old_spans, new_spans = self._create_diff_spans(old_tokens, new_tokens)\n",
        "\n",
        "        # Create HTML output with prompts in titles\n",
        "        html_output = f'''\n",
        "        <div style=\"font-family: monospace; white-space: pre-wrap;\">\n",
        "            <div style=\"margin-bottom: 10px;\">\n",
        "                <div style=\"color: #666; margin-bottom: 3px;\">- Original ({reference_result[\"variation_type\"]}): {reference_result[\"prompt\"]}</div>\n",
        "                <div style=\"border: 1px solid #d0d7de; padding: 8px; border-radius: 4px;\">\n",
        "                    {''.join(old_spans)}\n",
        "                </div>\n",
        "            </div>\n",
        "            <div>\n",
        "                <div style=\"color: #666; margin-bottom: 3px;\">+ Modified ({modified_result[\"variation_type\"]}): {modified_result[\"prompt\"]}</div>\n",
        "                <div style=\"border: 1px solid #d0d7de; padding: 8px; border-radius: 4px;\">\n",
        "                    {''.join(new_spans)}\n",
        "                </div>\n",
        "            </div>\n",
        "        </div>\n",
        "        '''\n",
        "\n",
        "        return HTML(html_output)"
      ],
      "outputs": []
    },
    {
      "cell_type": "markdown",
      "metadata": {
        "id": "PO8qm-CRonmT"
      },
      "source": [
        "## Run Experiments\n",
        "\n",
        "Let's test the prompt sensitivity with a few different base prompts."
      ]
    },
    {
      "cell_type": "code",
      "execution_count": 5,
      "metadata": {
        "id": "mLYqJGlhonmT"
      },
      "source": [
        "# Test cases\n",
        "test_cases = [\n",
        "    {\n",
        "        \"prompt\": \"Explain how photosynthesis works\",\n",
        "        \"context\": \"You are a biology teacher explaining concepts to high school students.\"\n",
        "    },\n",
        "    {\n",
        "        \"prompt\": \"Write a short poem about the moon\",\n",
        "        \"context\": \"You are a creative writing instructor helping students with poetry.\"\n",
        "    },\n",
        "    {\n",
        "        \"prompt\": \"What are the key features of Python\",\n",
        "        \"context\": \"You are a programming instructor teaching beginners about Python.\"\n",
        "    },\n",
        "    {\n",
        "        \"prompt\": \"Summarize\",\n",
        "        \"context\": \"You are a research assistant helping to condense complex papers into key points.\"\n",
        "    },\n",
        "    {\n",
        "        \"prompt\": \"Explain the difference between mitochondrial DNA and nuclear DNA\",\n",
        "        \"context\": \"You are a genetics researcher explaining concepts to undergraduate students.\"\n",
        "    },\n",
        "    {\n",
        "        \"prompt\": \"Design a database schema for a library management system\",\n",
        "        \"context\": \"You are a database architect helping junior developers.\"\n",
        "    },\n",
        "    {\n",
        "        \"prompt\": \"Debug why my SELECT query with JOIN is slow\",\n",
        "        \"context\": \"You are a SQL performance tuning expert helping optimize database queries.\"\n",
        "    }\n",
        "]\n",
        "\n",
        "# Run experiments\n",
        "experiments = []\n",
        "for case in test_cases:\n",
        "    experiment = PromptExperiment(case[\"prompt\"])\n",
        "    experiment.run_experiment(context=case[\"context\"])\n",
        "    experiments.append(experiment)\n",
        "\n",
        "    # Save results\n",
        "    experiment.save_results(f\"results_{datetime.now().strftime('%Y%m%d_%H%M%S')}.json\")"
      ],
      "outputs": []
    },
    {
      "cell_type": "markdown",
      "source": [
        "## Exploration"
      ],
      "metadata": {
        "id": "HF3KyMTsWjK9"
      }
    },
    {
      "cell_type": "code",
      "source": [
        "from typing import List, Union, Optional\n",
        "from IPython.display import display, HTML\n",
        "\n",
        "def display_experiment_diffs(\n",
        "    experiments: List[PromptExperiment],\n",
        "    experiment_idx: Optional[Union[int, List[int]]] = None,\n",
        "    variation_type: str = \"extra_space_start\",\n",
        "    reference_variation: str = \"original\"\n",
        ") -> None:\n",
        "    \"\"\"\n",
        "    Display diffs for one or more experiments.\n",
        "\n",
        "    Args:\n",
        "        experiments: List of PromptExperiment objects\n",
        "        experiment_idx: Index or list of indices of experiments to display (None for all)\n",
        "        variation_type: The variation type to compare against the reference\n",
        "        reference_variation: The reference variation type (default: \"original\")\n",
        "    \"\"\"\n",
        "    # Convert single index to list for consistent handling\n",
        "    if isinstance(experiment_idx, int):\n",
        "        experiment_idx = [experiment_idx]\n",
        "\n",
        "    # If no index specified, show all experiments\n",
        "    if experiment_idx is None:\n",
        "        experiment_idx = range(len(experiments))\n",
        "\n",
        "    for idx in experiment_idx:\n",
        "        experiment = experiments[idx]\n",
        "\n",
        "        # Display experiment identifier\n",
        "        display(HTML(f'''\n",
        "        <div style=\"margin: 20px 0; padding: 10px; background-color: #f6f8fa; border-radius: 4px;\">\n",
        "            <strong>Experiment {idx}</strong><br>\n",
        "            Base Prompt: {experiment.base_prompt}\n",
        "        </div>\n",
        "        '''))\n",
        "\n",
        "        # Display the diff\n",
        "        display(experiment.display_diff(variation_type, reference_variation))"
      ],
      "metadata": {
        "id": "3bM5d_qfXuGZ"
      },
      "execution_count": 6,
      "outputs": []
    },
    {
      "cell_type": "code",
      "source": [
        "# Example usage:\n",
        "# Show diff for a single experiment\n",
        "display_experiment_diffs(experiments, experiment_idx=0, variation_type=\"extra_space_start\")\n"
      ],
      "metadata": {
        "colab": {
          "base_uri": "https://localhost:8080/",
          "height": 1000
        },
        "id": "jBPBRR42WlzC",
        "outputId": "e2d60755-6a56-46cc-8ba8-176ec60f44c5"
      },
      "execution_count": 7,
      "outputs": [
        {
          "output_type": "display_data",
          "data": {
            "text/plain": [
              "<IPython.core.display.HTML object>"
            ],
            "text/html": [
              "\n",
              "        <div style=\"margin: 20px 0; padding: 10px; background-color: #f6f8fa; border-radius: 4px;\">\n",
              "            <strong>Experiment 0</strong><br>\n",
              "            Base Prompt: Explain how photosynthesis works\n",
              "        </div>\n",
              "        "
            ]
          },
          "metadata": {}
        },
        {
          "output_type": "display_data",
          "data": {
            "text/plain": [
              "<IPython.core.display.HTML object>"
            ],
            "text/html": [
              "\n",
              "        <div style=\"font-family: monospace; white-space: pre-wrap;\">\n",
              "            <div style=\"margin-bottom: 10px;\">\n",
              "                <div style=\"color: #666; margin-bottom: 3px;\">- Original (original): Explain how photosynthesis works</div>\n",
              "                <div style=\"border: 1px solid #d0d7de; padding: 8px; border-radius: 4px;\">\n",
              "                    <span>Photosynthesis is the process by which plants use sunlight, water and carbon dioxide to create oxygen and energy in the form of sugar. \n",
              " \n",
              " Here's</span><span> </span><span style=\"background-color: #ffdce0\">a simple step-by-step of</span><span> </span><span>how it works: \n",
              " \n",
              " 1. The leaves of a plant absorb sunlight. Within the</span><span> </span><span style=\"background-color: #ffdce0\">leaves</span><span> </span><span>are small</span><span> </span><span style=\"background-color: #ffdce0\">structures called chloroplasts</span><span> </span><span>which contain a green pigment called chlorophyll. Chlorophyll is what allows plants to absorb</span><span> </span><span style=\"background-color: #ffdce0\">the</span><span> </span><span>energy from sunlight. \n",
              " \n",
              " 2. At the same time, the roots absorb water and</span><span> </span><span style=\"background-color: #ffdce0\">minerals from the soil. This water is transported</span><span> </span><span>up to the leaves through tubes</span><span> </span><span style=\"background-color: #ffdce0\">in the stem.</span><span> </span><span>\n",
              " \n",
              " 3. Small pores in the leaves called stomata open up to</span><span> </span><span style=\"background-color: #ffdce0\">allow</span><span> </span><span>carbon dioxide from the</span><span> </span><span style=\"background-color: #ffdce0\">air to enter.</span><span> </span><span>\n",
              " \n",
              " 4.</span><span> </span><span style=\"background-color: #ffdce0\">Using the absorbed</span><span> </span><span>sunlight</span><span> </span><span>as</span><span> </span><span style=\"background-color: #ffdce0\">energy, the chloroplasts convert the water and carbon dioxide into glucose (a type of sugar) and oxygen</span><span> </span><span>through</span><span> </span><span style=\"background-color: #ffdce0\">a series of chemical reactions. \n",
              " \n",
              " 5. The oxygen is released from the leaves back into the atmosphere, while the glucose is used by the plant as an energy source to fuel its growth and other life processes. Some of the glucose also gets stored in the plant. \n",
              " \n",
              " So in summary, the inputs for</span><span> </span><span>photosynthesis are</span><span> </span><span style=\"background-color: #ffdce0\">sunlight, water and carbon dioxide. The outputs</span><span> </span><span>are</span><span> </span><span style=\"background-color: #ffdce0\">glucose which feeds the plant, and oxygen which is released into the air</span><span> </span><span>for</span><span> </span><span style=\"background-color: #ffdce0\">us to breathe. Photosynthesis is a crucial process that sustains plant life and produces the oxygen that much of life</span><span> </span><span>on</span><span> </span><span style=\"background-color: #ffdce0\">Earth depends on.</span>\n",
              "                </div>\n",
              "            </div>\n",
              "            <div>\n",
              "                <div style=\"color: #666; margin-bottom: 3px;\">+ Modified (extra_space_start):  Explain how photosynthesis works</div>\n",
              "                <div style=\"border: 1px solid #d0d7de; padding: 8px; border-radius: 4px;\">\n",
              "                    <span>Photosynthesis is the process by which plants use sunlight, water and carbon dioxide to create oxygen and energy in the form of sugar. \n",
              " \n",
              " Here's</span><span> </span><span>how it works: \n",
              " \n",
              " 1. The leaves of a plant absorb sunlight. Within the</span><span> </span><span style=\"background-color: #cdffd8\">plant cells</span><span> </span><span>are small</span><span> </span><span style=\"background-color: #cdffd8\">organelles called chloroplasts,</span><span> </span><span>which contain a green pigment called chlorophyll. Chlorophyll is what allows plants to absorb</span><span> </span><span>energy from sunlight. \n",
              " \n",
              " 2. At the same time, the roots absorb water and</span><span> </span><span style=\"background-color: #cdffd8\">transport it</span><span> </span><span>up to the leaves through tubes</span><span> </span><span style=\"background-color: #cdffd8\">called xylem.</span><span> </span><span>\n",
              " \n",
              " 3. Small pores in the leaves called stomata open up to</span><span> </span><span style=\"background-color: #cdffd8\">collect</span><span> </span><span>carbon dioxide from the</span><span> </span><span style=\"background-color: #cdffd8\">air.</span><span> </span><span>\n",
              " \n",
              " 4.</span><span> </span><span style=\"background-color: #cdffd8\">Inside the chloroplasts, the energy from</span><span> </span><span>sunlight</span><span> </span><span style=\"background-color: #cdffd8\">is used to split the water molecules into hydrogen and oxygen. The oxygen is released from the leaves into the atmosphere. \n",
              " \n",
              " 5. The hydrogen from the water combines with the carbon dioxide using energy from the sunlight to create glucose, a simple sugar that the plant uses for energy. This chemical reaction is called photosynthesis. \n",
              " \n",
              " 6. The glucose is transported throughout the plant via tubes called phloem to be used for energy or stored</span><span> </span><span>as</span><span> </span><span style=\"background-color: #cdffd8\">starch. \n",
              " \n",
              " So in summary, plants take in sunlight, water and carbon dioxide, and</span><span> </span><span>through</span><span> </span><span>photosynthesis are</span><span> </span><span style=\"background-color: #cdffd8\">able to create their own food in the form of glucose, while also releasing oxygen as a byproduct. This is why plants</span><span> </span><span>are</span><span> </span><span style=\"background-color: #cdffd8\">so important, as they provide food and oxygen</span><span> </span><span>for</span><span> </span><span style=\"background-color: #cdffd8\">many other organisms</span><span> </span><span>on</span><span> </span><span style=\"background-color: #cdffd8\">Earth.</span>\n",
              "                </div>\n",
              "            </div>\n",
              "        </div>\n",
              "        "
            ]
          },
          "metadata": {}
        }
      ]
    },
    {
      "cell_type": "code",
      "source": [
        "# Show diffs for specific experiments\n",
        "display_experiment_diffs(experiments, experiment_idx=[0, 2], variation_type=\"all_caps\")"
      ],
      "metadata": {
        "colab": {
          "base_uri": "https://localhost:8080/",
          "height": 1000
        },
        "id": "YC_fXrBgayfy",
        "outputId": "66353eaf-0442-475c-dca0-361bfbb25672"
      },
      "execution_count": 8,
      "outputs": [
        {
          "output_type": "display_data",
          "data": {
            "text/plain": [
              "<IPython.core.display.HTML object>"
            ],
            "text/html": [
              "\n",
              "        <div style=\"margin: 20px 0; padding: 10px; background-color: #f6f8fa; border-radius: 4px;\">\n",
              "            <strong>Experiment 0</strong><br>\n",
              "            Base Prompt: Explain how photosynthesis works\n",
              "        </div>\n",
              "        "
            ]
          },
          "metadata": {}
        },
        {
          "output_type": "display_data",
          "data": {
            "text/plain": [
              "<IPython.core.display.HTML object>"
            ],
            "text/html": [
              "\n",
              "        <div style=\"font-family: monospace; white-space: pre-wrap;\">\n",
              "            <div style=\"margin-bottom: 10px;\">\n",
              "                <div style=\"color: #666; margin-bottom: 3px;\">- Original (original): Explain how photosynthesis works</div>\n",
              "                <div style=\"border: 1px solid #d0d7de; padding: 8px; border-radius: 4px;\">\n",
              "                    <span>Photosynthesis is the process by which plants use sunlight, water and carbon dioxide to create oxygen and energy in the form of sugar. \n",
              " \n",
              " Here's a simple step-by-step of how it works: \n",
              " \n",
              " 1. The leaves of a plant absorb sunlight. Within the leaves are</span><span> </span><span style=\"background-color: #ffdce0\">small structures called</span><span> </span><span>chloroplasts which contain a green pigment called chlorophyll. Chlorophyll is what allows plants to absorb</span><span> </span><span style=\"background-color: #ffdce0\">the energy from sunlight.</span><span> </span><span>\n",
              " \n",
              " 2. At the same time, the roots absorb water</span><span> </span><span style=\"background-color: #ffdce0\">and minerals from the soil. This water</span><span> </span><span>is transported</span><span> </span><span style=\"background-color: #ffdce0\">up to</span><span> </span><span>the leaves through</span><span> </span><span style=\"background-color: #ffdce0\">tubes in the stem. \n",
              " \n",
              " 3. Small</span><span> </span><span>pores</span><span> </span><span style=\"background-color: #ffdce0\">in the leaves</span><span> </span><span>called</span><span> </span><span style=\"background-color: #ffdce0\">stomata open up to allow</span><span> </span><span>carbon dioxide</span><span> </span><span style=\"background-color: #ffdce0\">from the air to enter. \n",
              " \n",
              " 4. Using the absorbed sunlight as energy, the chloroplasts convert the water and carbon dioxide</span><span> </span><span>into glucose (a type of sugar) and</span><span> </span><span>oxygen</span><span> </span><span style=\"background-color: #ffdce0\">through a series of chemical reactions. \n",
              " \n",
              " 5. The oxygen</span><span> </span><span>is released from the leaves</span><span> </span><span style=\"background-color: #ffdce0\">back</span><span> </span><span>into the</span><span> </span><span style=\"background-color: #ffdce0\">atmosphere, while the</span><span> </span><span>glucose is used by the plant as an energy source to fuel its growth and other life processes. Some of</span><span> </span><span style=\"background-color: #ffdce0\">the glucose</span><span> </span><span>also</span><span> </span><span style=\"background-color: #ffdce0\">gets</span><span> </span><span>stored</span><span> </span><span style=\"background-color: #ffdce0\">in the plant.</span><span> </span><span>\n",
              " \n",
              " So in summary, the inputs for photosynthesis are sunlight, water and carbon dioxide. The outputs are glucose</span><span> </span><span style=\"background-color: #ffdce0\">which feeds the plant, and oxygen which is released into the air</span><span> </span><span>for</span><span> </span><span style=\"background-color: #ffdce0\">us to breathe. Photosynthesis is a crucial process that sustains plant life and produces the oxygen that much of</span><span> </span><span>life on Earth</span><span> </span><span style=\"background-color: #ffdce0\">depends on.</span>\n",
              "                </div>\n",
              "            </div>\n",
              "            <div>\n",
              "                <div style=\"color: #666; margin-bottom: 3px;\">+ Modified (all_caps): EXPLAIN HOW PHOTOSYNTHESIS WORKS</div>\n",
              "                <div style=\"border: 1px solid #d0d7de; padding: 8px; border-radius: 4px;\">\n",
              "                    <span>Photosynthesis is the process by which plants use sunlight, water and carbon dioxide to create oxygen and energy in the form of sugar. \n",
              " \n",
              " Here's a simple step-by-step of how it works: \n",
              " \n",
              " 1. The leaves of a plant absorb sunlight. Within the leaves are</span><span> </span><span>chloroplasts which contain a green pigment called chlorophyll. Chlorophyll is what allows plants to absorb</span><span> </span><span style=\"background-color: #cdffd8\">energy from light.</span><span> </span><span>\n",
              " \n",
              " 2. At the same time, the roots absorb water</span><span> </span><span style=\"background-color: #cdffd8\">from the soil and this</span><span> </span><span>is transported</span><span> </span><span style=\"background-color: #cdffd8\">to the leaves. \n",
              " \n",
              " 3. Carbon dioxide enters</span><span> </span><span>the leaves through</span><span> </span><span style=\"background-color: #cdffd8\">tiny</span><span> </span><span>pores</span><span> </span><span>called</span><span> </span><span style=\"background-color: #cdffd8\">stomata. \n",
              " \n",
              " 4. Using the energy from sunlight, the absorbed water and</span><span> </span><span>carbon dioxide</span><span> </span><span style=\"background-color: #cdffd8\">are converted</span><span> </span><span>into glucose (a type of sugar) and</span><span> </span><span style=\"background-color: #cdffd8\">oxygen. This transformation takes place in the chloroplasts of the leaf cells. \n",
              " \n",
              " 5. The</span><span> </span><span>oxygen</span><span> </span><span>is released from the leaves</span><span> </span><span>into the</span><span> </span><span style=\"background-color: #cdffd8\">atmosphere. The</span><span> </span><span>glucose is used by the plant as an energy source to fuel its growth and other life processes. Some of</span><span> </span><span style=\"background-color: #cdffd8\">it is</span><span> </span><span>also</span><span> </span><span>stored</span><span> </span><span style=\"background-color: #cdffd8\">for later use.</span><span> </span><span>\n",
              " \n",
              " So in summary, the inputs for photosynthesis are sunlight, water and carbon dioxide. The outputs are glucose</span><span> </span><span style=\"background-color: #cdffd8\">(sugar) and oxygen. This process is vital</span><span> </span><span>for</span><span> </span><span>life on Earth</span><span> </span><span style=\"background-color: #cdffd8\">as it provides the oxygen we breathe and the foundation of most food chains.</span>\n",
              "                </div>\n",
              "            </div>\n",
              "        </div>\n",
              "        "
            ]
          },
          "metadata": {}
        },
        {
          "output_type": "display_data",
          "data": {
            "text/plain": [
              "<IPython.core.display.HTML object>"
            ],
            "text/html": [
              "\n",
              "        <div style=\"margin: 20px 0; padding: 10px; background-color: #f6f8fa; border-radius: 4px;\">\n",
              "            <strong>Experiment 2</strong><br>\n",
              "            Base Prompt: What are the key features of Python\n",
              "        </div>\n",
              "        "
            ]
          },
          "metadata": {}
        },
        {
          "output_type": "display_data",
          "data": {
            "text/plain": [
              "<IPython.core.display.HTML object>"
            ],
            "text/html": [
              "\n",
              "        <div style=\"font-family: monospace; white-space: pre-wrap;\">\n",
              "            <div style=\"margin-bottom: 10px;\">\n",
              "                <div style=\"color: #666; margin-bottom: 3px;\">- Original (original): What are the key features of Python</div>\n",
              "                <div style=\"border: 1px solid #d0d7de; padding: 8px; border-radius: 4px;\">\n",
              "                    <span>Some of the key features of Python include: \n",
              " \n",
              " 1. Easy to learn and read syntax - Python uses simple, English-like syntax that is easy for beginners to pick up. The code is very</span><span> </span><span style=\"background-color: #ffdce0\">readable compared to many other programming languages.</span><span> </span><span>\n",
              " \n",
              " 2. Interpreted language - Python code is executed line by</span><span> </span><span style=\"background-color: #ffdce0\">line at runtime by the interpreter. You don't need to compile the entire program first. This allows for faster development.</span><span> </span><span>\n",
              " \n",
              " 3. Dynamically typed - You don't need to declare variable types in Python. The interpreter infers types at</span><span> </span><span style=\"background-color: #ffdce0\">runtime.</span><span> </span><span>This makes</span><span> </span><span style=\"background-color: #ffdce0\">the code more concise. \n",
              " \n",
              " 4.</span><span> </span><span>Extensive standard library - Python comes with a large standard library that supports many common programming</span><span> </span><span style=\"background-color: #ffdce0\">tasks like connecting to web servers, reading and modifying files, and working with data. \n",
              " \n",
              " 5.</span><span> </span><span>Third party packages -</span><span> </span><span style=\"background-color: #ffdce0\">There is</span><span> </span><span>a</span><span> </span><span style=\"background-color: #ffdce0\">rich</span><span> </span><span>ecosystem of</span><span> </span><span style=\"background-color: #ffdce0\">third-party Python</span><span> </span><span>packages available that extend</span><span> </span><span style=\"background-color: #ffdce0\">the language for specific domains like</span><span> </span><span>web development, data science, machine learning and more. \n",
              " \n",
              "</span><span> </span><span style=\"background-color: #ffdce0\">6.</span><span> </span><span>Portability - Python</span><span> </span><span style=\"background-color: #ffdce0\">programs</span><span> </span><span>can run on many different</span><span> </span><span style=\"background-color: #ffdce0\">computers and</span><span> </span><span>operating systems</span><span> </span><span>with little to no</span><span> </span><span style=\"background-color: #ffdce0\">modifications required. \n",
              " \n",
              " 7. Supports multiple programming paradigms - Python supports procedural, object-oriented, and to some extent functional programming. This</span><span> </span><span>allows</span><span> </span><span style=\"background-color: #ffdce0\">you to choose the paradigm that best fits the problem.</span><span> </span><span>\n",
              " \n",
              " These are some of the</span><span> </span><span style=\"background-color: #ffdce0\">key</span><span> </span><span>reasons Python has become one of the most popular</span><span> </span><span>programming languages in the world, used</span><span> </span><span style=\"background-color: #ffdce0\">for everything from web development to data analysis to DevOps.</span>\n",
              "                </div>\n",
              "            </div>\n",
              "            <div>\n",
              "                <div style=\"color: #666; margin-bottom: 3px;\">+ Modified (all_caps): WHAT ARE THE KEY FEATURES OF PYTHON</div>\n",
              "                <div style=\"border: 1px solid #d0d7de; padding: 8px; border-radius: 4px;\">\n",
              "                    <span>Some of the key features of Python include: \n",
              " \n",
              " 1. Easy to learn and read syntax - Python uses simple, English-like syntax that is easy for beginners to pick up. The code is very</span><span> </span><span style=\"background-color: #cdffd8\">readable.</span><span> </span><span>\n",
              " \n",
              " 2. Interpreted language - Python code is executed line by</span><span> </span><span style=\"background-color: #cdffd8\">line, making it easy to test and debug code as you write it. No separate compilation step is needed.</span><span> </span><span>\n",
              " \n",
              " 3. Dynamically typed - You don't need to declare variable types in Python. The interpreter infers types at</span><span> </span><span style=\"background-color: #cdffd8\">runtime, allowing for faster development. \n",
              " \n",
              " 4. Multi-paradigm - Python supports multiple programming paradigms including procedural, object-oriented and functional styles.</span><span> </span><span>This makes</span><span> </span><span style=\"background-color: #cdffd8\">it very flexible. \n",
              " \n",
              " 5.</span><span> </span><span>Extensive standard library - Python comes with a large standard library that supports many common programming</span><span> </span><span style=\"background-color: #cdffd8\">tasks, reducing the need for external dependencies. \n",
              " \n",
              " 6.</span><span> </span><span>Third party packages -</span><span> </span><span style=\"background-color: #cdffd8\">Python has</span><span> </span><span>a</span><span> </span><span style=\"background-color: #cdffd8\">huge</span><span> </span><span>ecosystem of</span><span> </span><span style=\"background-color: #cdffd8\">third party</span><span> </span><span>packages available that extend</span><span> </span><span style=\"background-color: #cdffd8\">its capabilities into</span><span> </span><span>web development, data science, machine learning and more. \n",
              " \n",
              "</span><span> </span><span style=\"background-color: #cdffd8\">7.</span><span> </span><span>Portability - Python</span><span> </span><span style=\"background-color: #cdffd8\">code</span><span> </span><span>can run on many different</span><span> </span><span>operating systems</span><span> </span><span style=\"background-color: #cdffd8\">and platforms</span><span> </span><span>with little to no</span><span> </span><span style=\"background-color: #cdffd8\">modification needed. \n",
              " \n",
              " 8. Productivity - The simplicity and power of Python</span><span> </span><span>allows</span><span> </span><span style=\"background-color: #cdffd8\">developers to write programs faster with fewer lines of code compared to many other languages.</span><span> </span><span>\n",
              " \n",
              " These are some of the</span><span> </span><span style=\"background-color: #cdffd8\">main</span><span> </span><span>reasons Python has become one of the most popular</span><span> </span><span style=\"background-color: #cdffd8\">and fastest growing</span><span> </span><span>programming languages in the world, used</span><span> </span><span style=\"background-color: #cdffd8\">by beginners and experts alike for a wide variety of applications.</span>\n",
              "                </div>\n",
              "            </div>\n",
              "        </div>\n",
              "        "
            ]
          },
          "metadata": {}
        }
      ]
    },
    {
      "cell_type": "code",
      "source": [
        "# Show diffs for all experiments\n",
        "display_experiment_diffs(experiments, variation_type=\"double_space\")"
      ],
      "metadata": {
        "colab": {
          "base_uri": "https://localhost:8080/",
          "height": 1000
        },
        "id": "MAGJytp6a61R",
        "outputId": "97a9a0a5-587f-45a6-eb23-399573ade44f"
      },
      "execution_count": 9,
      "outputs": [
        {
          "output_type": "display_data",
          "data": {
            "text/plain": [
              "<IPython.core.display.HTML object>"
            ],
            "text/html": [
              "\n",
              "        <div style=\"margin: 20px 0; padding: 10px; background-color: #f6f8fa; border-radius: 4px;\">\n",
              "            <strong>Experiment 0</strong><br>\n",
              "            Base Prompt: Explain how photosynthesis works\n",
              "        </div>\n",
              "        "
            ]
          },
          "metadata": {}
        },
        {
          "output_type": "display_data",
          "data": {
            "text/plain": [
              "<IPython.core.display.HTML object>"
            ],
            "text/html": [
              "\n",
              "        <div style=\"font-family: monospace; white-space: pre-wrap;\">\n",
              "            <div style=\"margin-bottom: 10px;\">\n",
              "                <div style=\"color: #666; margin-bottom: 3px;\">- Original (original): Explain how photosynthesis works</div>\n",
              "                <div style=\"border: 1px solid #d0d7de; padding: 8px; border-radius: 4px;\">\n",
              "                    <span>Photosynthesis is the process by which plants use sunlight, water and carbon dioxide to create oxygen and energy in the form of sugar. \n",
              " \n",
              " Here's a simple step-by-step of how</span><span> </span><span style=\"background-color: #ffdce0\">it</span><span> </span><span>works: \n",
              " \n",
              " 1. The leaves of a plant absorb sunlight. Within the leaves are</span><span> </span><span style=\"background-color: #ffdce0\">small structures called</span><span> </span><span>chloroplasts which contain a green pigment called chlorophyll. Chlorophyll is what allows plants to absorb</span><span> </span><span style=\"background-color: #ffdce0\">the</span><span> </span><span>energy from sunlight. \n",
              " \n",
              " 2. At the same time, the roots absorb water</span><span> </span><span style=\"background-color: #ffdce0\">and minerals from the soil. This water</span><span> </span><span>is transported</span><span> </span><span style=\"background-color: #ffdce0\">up</span><span> </span><span>to the</span><span> </span><span>leaves through</span><span> </span><span style=\"background-color: #ffdce0\">tubes in the stem. \n",
              " \n",
              " 3. Small</span><span> </span><span>pores</span><span> </span><span style=\"background-color: #ffdce0\">in the leaves</span><span> </span><span>called</span><span> </span><span style=\"background-color: #ffdce0\">stomata open up to allow</span><span> </span><span>carbon dioxide</span><span> </span><span style=\"background-color: #ffdce0\">from the air to enter. \n",
              " \n",
              " 4. Using the absorbed sunlight as energy, the chloroplasts convert the water and carbon dioxide</span><span> </span><span>into glucose (a type of sugar) and</span><span> </span><span style=\"background-color: #ffdce0\">oxygen through a series of</span><span> </span><span>chemical</span><span> </span><span style=\"background-color: #ffdce0\">reactions.</span><span> </span><span>\n",
              " \n",
              " 5. The</span><span> </span><span style=\"background-color: #ffdce0\">oxygen is released from the leaves back into the atmosphere, while</span><span> </span><span>the glucose</span><span> </span><span style=\"background-color: #ffdce0\">is used by the plant as an energy source to fuel its</span><span> </span><span>growth and other life processes.</span><span> </span><span style=\"background-color: #ffdce0\">Some of the glucose also gets stored in the plant.</span><span> </span><span>\n",
              " \n",
              " So in summary, the inputs for photosynthesis are sunlight, water and carbon dioxide. The outputs are glucose which</span><span> </span><span style=\"background-color: #ffdce0\">feeds the plant,</span><span> </span><span>and oxygen which is released</span><span> </span><span style=\"background-color: #ffdce0\">into the air for us to breathe.</span><span> </span><span>Photosynthesis is</span><span> </span><span style=\"background-color: #ffdce0\">a crucial process that sustains plant life and produces the oxygen that much of</span><span> </span><span>life on Earth</span><span> </span><span style=\"background-color: #ffdce0\">depends on.</span>\n",
              "                </div>\n",
              "            </div>\n",
              "            <div>\n",
              "                <div style=\"color: #666; margin-bottom: 3px;\">+ Modified (double_space): Explain  how  photosynthesis  works</div>\n",
              "                <div style=\"border: 1px solid #d0d7de; padding: 8px; border-radius: 4px;\">\n",
              "                    <span>Photosynthesis is the process by which plants use sunlight, water and carbon dioxide to create oxygen and energy in the form of sugar. \n",
              " \n",
              " Here's a simple step-by-step of how</span><span> </span><span style=\"background-color: #cdffd8\">photosynthesis</span><span> </span><span>works: \n",
              " \n",
              " 1. The leaves of a plant absorb sunlight. Within the leaves are</span><span> </span><span>chloroplasts which contain a green pigment called chlorophyll. Chlorophyll is what allows plants to absorb</span><span> </span><span>energy from sunlight. \n",
              " \n",
              " 2. At the same time, the roots absorb water</span><span> </span><span style=\"background-color: #cdffd8\">from the soil and this</span><span> </span><span>is transported</span><span> </span><span>to the</span><span> </span><span style=\"background-color: #cdffd8\">leaves. \n",
              " \n",
              " 3. Carbon dioxide enters the</span><span> </span><span>leaves through</span><span> </span><span style=\"background-color: #cdffd8\">tiny</span><span> </span><span>pores</span><span> </span><span>called</span><span> </span><span style=\"background-color: #cdffd8\">stomata. \n",
              " \n",
              " 4. Using the energy from sunlight, the absorbed water and</span><span> </span><span>carbon dioxide</span><span> </span><span style=\"background-color: #cdffd8\">are converted</span><span> </span><span>into glucose (a type of sugar) and</span><span> </span><span style=\"background-color: #cdffd8\">oxygen. This</span><span> </span><span>chemical</span><span> </span><span style=\"background-color: #cdffd8\">reaction is called photosynthesis.</span><span> </span><span>\n",
              " \n",
              " 5. The</span><span> </span><span style=\"background-color: #cdffd8\">plant uses</span><span> </span><span>the glucose</span><span> </span><span style=\"background-color: #cdffd8\">for energy for</span><span> </span><span>growth and other life processes.</span><span> </span><span style=\"background-color: #cdffd8\">The oxygen is released from the leaves into the atmosphere.</span><span> </span><span>\n",
              " \n",
              " So in summary, the inputs for photosynthesis are sunlight, water and carbon dioxide. The outputs are glucose which</span><span> </span><span style=\"background-color: #cdffd8\">the plant uses for energy,</span><span> </span><span>and oxygen which is released</span><span> </span><span style=\"background-color: #cdffd8\">as a waste product.</span><span> </span><span>Photosynthesis is</span><span> </span><span style=\"background-color: #cdffd8\">vital for</span><span> </span><span>life on Earth</span><span> </span><span style=\"background-color: #cdffd8\">as it provides the oxygen we breathe and the food we eat, either directly or indirectly. Let me know if you have any other questions!</span>\n",
              "                </div>\n",
              "            </div>\n",
              "        </div>\n",
              "        "
            ]
          },
          "metadata": {}
        },
        {
          "output_type": "display_data",
          "data": {
            "text/plain": [
              "<IPython.core.display.HTML object>"
            ],
            "text/html": [
              "\n",
              "        <div style=\"margin: 20px 0; padding: 10px; background-color: #f6f8fa; border-radius: 4px;\">\n",
              "            <strong>Experiment 1</strong><br>\n",
              "            Base Prompt: Write a short poem about the moon\n",
              "        </div>\n",
              "        "
            ]
          },
          "metadata": {}
        },
        {
          "output_type": "display_data",
          "data": {
            "text/plain": [
              "<IPython.core.display.HTML object>"
            ],
            "text/html": [
              "\n",
              "        <div style=\"font-family: monospace; white-space: pre-wrap;\">\n",
              "            <div style=\"margin-bottom: 10px;\">\n",
              "                <div style=\"color: #666; margin-bottom: 3px;\">- Original (original): Write a short poem about the moon</div>\n",
              "                <div style=\"border: 1px solid #d0d7de; padding: 8px; border-radius: 4px;\">\n",
              "                    <span style=\"background-color: #ffdce0\">The moon, a gentle</span><span> </span><span>orb</span><span> </span><span style=\"background-color: #ffdce0\">of light \n",
              " Illuminating the darkest night</span><span> </span><span>\n",
              " Casting</span><span> </span><span style=\"background-color: #ffdce0\">shadows, long and deep \n",
              " A silent guardian as we sleep \n",
              "</span><span> </span><span>\n",
              " Waxing, waning, ever</span><span> </span><span style=\"background-color: #ffdce0\">changing</span><span> </span><span>\n",
              "</span><span> </span><span style=\"background-color: #ffdce0\">Through starry skies, forever ranging</span><span> </span><span>\n",
              "</span><span> </span><span style=\"background-color: #ffdce0\">Mysterious and enchanting, she</span><span> </span><span>\n",
              "</span><span> </span><span style=\"background-color: #ffdce0\">Pulls at hearts and tides and dreams</span>\n",
              "                </div>\n",
              "            </div>\n",
              "            <div>\n",
              "                <div style=\"color: #666; margin-bottom: 3px;\">+ Modified (double_space): Write  a  short  poem  about  the  moon</div>\n",
              "                <div style=\"border: 1px solid #d0d7de; padding: 8px; border-radius: 4px;\">\n",
              "                    <span style=\"background-color: #cdffd8\">Luminous</span><span> </span><span>orb</span><span> </span><span style=\"background-color: #cdffd8\">in darkened skies,</span><span> </span><span>\n",
              " Casting</span><span> </span><span style=\"background-color: #cdffd8\">light on sleepy eyes.</span><span> </span><span>\n",
              " Waxing, waning, ever</span><span> </span><span style=\"background-color: #cdffd8\">changing,</span><span> </span><span>\n",
              "</span><span> </span><span style=\"background-color: #cdffd8\">Celestial beauty, so engaging.</span><span> </span><span>\n",
              "</span><span> </span><span style=\"background-color: #cdffd8\">Guiding lost souls through the night,</span><span> </span><span>\n",
              "</span><span> </span><span style=\"background-color: #cdffd8\">Faithful friend, a wondrous sight. \n",
              " Mysteries held in your pale glow, \n",
              " Lunar secrets we yearn to know.</span>\n",
              "                </div>\n",
              "            </div>\n",
              "        </div>\n",
              "        "
            ]
          },
          "metadata": {}
        },
        {
          "output_type": "display_data",
          "data": {
            "text/plain": [
              "<IPython.core.display.HTML object>"
            ],
            "text/html": [
              "\n",
              "        <div style=\"margin: 20px 0; padding: 10px; background-color: #f6f8fa; border-radius: 4px;\">\n",
              "            <strong>Experiment 2</strong><br>\n",
              "            Base Prompt: What are the key features of Python\n",
              "        </div>\n",
              "        "
            ]
          },
          "metadata": {}
        },
        {
          "output_type": "display_data",
          "data": {
            "text/plain": [
              "<IPython.core.display.HTML object>"
            ],
            "text/html": [
              "\n",
              "        <div style=\"font-family: monospace; white-space: pre-wrap;\">\n",
              "            <div style=\"margin-bottom: 10px;\">\n",
              "                <div style=\"color: #666; margin-bottom: 3px;\">- Original (original): What are the key features of Python</div>\n",
              "                <div style=\"border: 1px solid #d0d7de; padding: 8px; border-radius: 4px;\">\n",
              "                    <span>Some of the key features of Python include: \n",
              " \n",
              " 1. Easy to learn and read syntax - Python uses</span><span> </span><span style=\"background-color: #ffdce0\">simple,</span><span> </span><span>English-like syntax that is easy for beginners to</span><span> </span><span style=\"background-color: #ffdce0\">pick up.</span><span> </span><span>The code is very</span><span> </span><span style=\"background-color: #ffdce0\">readable compared to many other programming languages.</span><span> </span><span>\n",
              " \n",
              " 2. Interpreted language - Python code is executed line by line at runtime by the interpreter.</span><span> </span><span style=\"background-color: #ffdce0\">You don't need to compile the entire program first. This allows for faster development.</span><span> </span><span>\n",
              " \n",
              " 3. Dynamically typed - You don't need to declare variable types in Python. The interpreter infers types at runtime.</span><span> </span><span style=\"background-color: #ffdce0\">This makes the code more concise.</span><span> </span><span>\n",
              " \n",
              " 4.</span><span> </span><span>Extensive standard library - Python comes with a large standard library that supports many common programming</span><span> </span><span style=\"background-color: #ffdce0\">tasks like connecting to web servers, reading and modifying files, and working with data. \n",
              " \n",
              " 5.</span><span> </span><span>Third party packages - There is a</span><span> </span><span style=\"background-color: #ffdce0\">rich</span><span> </span><span>ecosystem of third-party</span><span> </span><span style=\"background-color: #ffdce0\">Python</span><span> </span><span>packages available</span><span> </span><span>that extend</span><span> </span><span style=\"background-color: #ffdce0\">the language for specific domains like web development, data science, machine learning and more. \n",
              " \n",
              " 6.</span><span> </span><span>Portability - Python</span><span> </span><span style=\"background-color: #ffdce0\">programs</span><span> </span><span>can run on</span><span> </span><span style=\"background-color: #ffdce0\">many</span><span> </span><span>different</span><span> </span><span style=\"background-color: #ffdce0\">computers</span><span> </span><span>and operating systems with little to no</span><span> </span><span style=\"background-color: #ffdce0\">modifications required. \n",
              " \n",
              " 7. Supports multiple programming paradigms - Python supports procedural, object-oriented, and to some extent functional programming. This allows you to choose the paradigm that best fits the problem.</span><span> </span><span>\n",
              " \n",
              " These</span><span> </span><span style=\"background-color: #ffdce0\">are some of the key reasons Python has become one of the most popular programming languages in the world, used for everything from web development to data analysis to DevOps.</span>\n",
              "                </div>\n",
              "            </div>\n",
              "            <div>\n",
              "                <div style=\"color: #666; margin-bottom: 3px;\">+ Modified (double_space): What  are  the  key  features  of  Python</div>\n",
              "                <div style=\"border: 1px solid #d0d7de; padding: 8px; border-radius: 4px;\">\n",
              "                    <span>Some of the key features of Python include: \n",
              " \n",
              " 1. Easy to learn and read syntax - Python uses</span><span> </span><span style=\"background-color: #cdffd8\">a clean,</span><span> </span><span>English-like syntax that is easy for beginners to</span><span> </span><span style=\"background-color: #cdffd8\">understand and learn.</span><span> </span><span>The code is very</span><span> </span><span style=\"background-color: #cdffd8\">readable.</span><span> </span><span>\n",
              " \n",
              " 2. Interpreted language - Python code is executed line by line at runtime by the interpreter.</span><span> </span><span style=\"background-color: #cdffd8\">There is no separate compilation step.</span><span> </span><span>\n",
              " \n",
              " 3. Dynamically typed - You don't need to declare variable types in Python. The interpreter infers types at runtime.</span><span> </span><span>\n",
              " \n",
              " 4.</span><span> </span><span style=\"background-color: #cdffd8\">Supports multiple programming paradigms - Python supports procedural, object-oriented and functional programming styles. \n",
              " \n",
              " 5.</span><span> </span><span>Extensive standard library - Python comes with a large standard library that supports many common programming</span><span> </span><span style=\"background-color: #cdffd8\">tasks. \n",
              " \n",
              " 6.</span><span> </span><span>Third party packages - There is a</span><span> </span><span style=\"background-color: #cdffd8\">huge</span><span> </span><span>ecosystem of third-party</span><span> </span><span>packages available</span><span> </span><span style=\"background-color: #cdffd8\">for Python</span><span> </span><span>that extend</span><span> </span><span style=\"background-color: #cdffd8\">its capabilities. \n",
              " \n",
              " 7. Automatic memory management - Python automatically handles memory management and garbage collection. You don't have to manage memory manually. \n",
              " \n",
              " 8. Interactive mode - Python provides an interactive interpreter that allows you to execute code line by line for quick testing and debugging. \n",
              " \n",
              " 9.</span><span> </span><span>Portability - Python</span><span> </span><span style=\"background-color: #cdffd8\">code</span><span> </span><span>can run on</span><span> </span><span>different</span><span> </span><span style=\"background-color: #cdffd8\">platforms</span><span> </span><span>and operating systems with little to no</span><span> </span><span style=\"background-color: #cdffd8\">modifications.</span><span> </span><span>\n",
              " \n",
              " These</span><span> </span><span style=\"background-color: #cdffd8\">features make Python a great language for beginners to learn programming concepts, while also being powerful enough for advanced users and real-world applications.</span>\n",
              "                </div>\n",
              "            </div>\n",
              "        </div>\n",
              "        "
            ]
          },
          "metadata": {}
        },
        {
          "output_type": "display_data",
          "data": {
            "text/plain": [
              "<IPython.core.display.HTML object>"
            ],
            "text/html": [
              "\n",
              "        <div style=\"margin: 20px 0; padding: 10px; background-color: #f6f8fa; border-radius: 4px;\">\n",
              "            <strong>Experiment 3</strong><br>\n",
              "            Base Prompt: Summarize\n",
              "        </div>\n",
              "        "
            ]
          },
          "metadata": {}
        },
        {
          "output_type": "display_data",
          "data": {
            "text/plain": [
              "<IPython.core.display.HTML object>"
            ],
            "text/html": [
              "\n",
              "        <div style=\"font-family: monospace; white-space: pre-wrap;\">\n",
              "            <div style=\"margin-bottom: 10px;\">\n",
              "                <div style=\"color: #666; margin-bottom: 3px;\">- Original (original): Summarize</div>\n",
              "                <div style=\"border: 1px solid #d0d7de; padding: 8px; border-radius: 4px;\">\n",
              "                    <span>To summarize a complex research paper into key points: \n",
              " \n",
              " 1. Read through the entire paper to get a high-level understanding of the content and main ideas. Take notes on the key sections like the abstract, introduction, results, and conclusion. \n",
              " \n",
              " 2. Identify the main research question, hypothesis, or objective of the paper. This is usually stated in the introduction. \n",
              " \n",
              " 3. Note the key methods used to conduct the research, such as experiments, surveys, data analysis techniques, etc. Briefly describe the approach. \n",
              " \n",
              " 4. Highlight the most important findings and results of the research. Look for data, statistics, trends, and other evidence that supports the main conclusions. \n",
              " \n",
              " 5. Summarize the main takeaways and conclusions of the paper. What did the authors determine based on their research? \n",
              " \n",
              " 6. If applicable, note any important limitations of the research or areas highlighted for future study. \n",
              " \n",
              " 7. Distill your notes down into a short bulleted list or a few concise paragraphs hitting just the main points. Aim to convey the core information as clearly and succinctly as possible. \n",
              " \n",
              " The key is to focus on the most essential information and strip away the granular details, while still accurately representing the research. Let me know if you need any other tips!</span>\n",
              "                </div>\n",
              "            </div>\n",
              "            <div>\n",
              "                <div style=\"color: #666; margin-bottom: 3px;\">+ Modified (double_space): Summarize</div>\n",
              "                <div style=\"border: 1px solid #d0d7de; padding: 8px; border-radius: 4px;\">\n",
              "                    <span>To summarize a complex research paper into key points: \n",
              " \n",
              " 1. Read through the entire paper to get a high-level understanding of the content and main ideas. Take notes on the key sections like the abstract, introduction, results, and conclusion. \n",
              " \n",
              " 2. Identify the main research question, hypothesis, or objective of the paper. This is usually stated in the introduction. \n",
              " \n",
              " 3. Note the key methods used to conduct the research, such as experiments, surveys, data analysis techniques, etc. Briefly describe the approach. \n",
              " \n",
              " 4. Highlight the most important findings and results of the research. Look for data, statistics, trends, and other evidence that supports the main conclusions. \n",
              " \n",
              " 5. Summarize the main takeaways and conclusions of the paper. What did the authors determine based on their research? \n",
              " \n",
              " 6. If applicable, note any important limitations of the research or areas highlighted for future study. \n",
              " \n",
              " 7. Distill your notes down into a short bulleted list or a few concise paragraphs hitting just the main points. Aim to convey the core information as clearly and succinctly as possible. \n",
              " \n",
              " The key is to focus on the most essential information and strip away the granular details, while still accurately representing the research. Let me know if you need any other tips!</span>\n",
              "                </div>\n",
              "            </div>\n",
              "        </div>\n",
              "        "
            ]
          },
          "metadata": {}
        },
        {
          "output_type": "display_data",
          "data": {
            "text/plain": [
              "<IPython.core.display.HTML object>"
            ],
            "text/html": [
              "\n",
              "        <div style=\"margin: 20px 0; padding: 10px; background-color: #f6f8fa; border-radius: 4px;\">\n",
              "            <strong>Experiment 4</strong><br>\n",
              "            Base Prompt: Explain the difference between mitochondrial DNA and nuclear DNA\n",
              "        </div>\n",
              "        "
            ]
          },
          "metadata": {}
        },
        {
          "output_type": "display_data",
          "data": {
            "text/plain": [
              "<IPython.core.display.HTML object>"
            ],
            "text/html": [
              "\n",
              "        <div style=\"font-family: monospace; white-space: pre-wrap;\">\n",
              "            <div style=\"margin-bottom: 10px;\">\n",
              "                <div style=\"color: #666; margin-bottom: 3px;\">- Original (original): Explain the difference between mitochondrial DNA and nuclear DNA</div>\n",
              "                <div style=\"border: 1px solid #d0d7de; padding: 8px; border-radius: 4px;\">\n",
              "                    <span>There are a few key differences between mitochondrial DNA (mtDNA) and nuclear DNA (nDNA): \n",
              " \n",
              "</span><span> </span><span>Location:</span><span> </span><span style=\"background-color: #ffdce0\">\n",
              " -</span><span> </span><span>mtDNA is found in the mitochondria, the cell's energy-producing</span><span> </span><span style=\"background-color: #ffdce0\">organelles</span><span> </span><span>located in the</span><span> </span><span style=\"background-color: #ffdce0\">cytoplasm \n",
              " - nDNA is located in the</span><span> </span><span>nucleus of the</span><span> </span><span style=\"background-color: #ffdce0\">cell \n",
              " \n",
              "</span><span> </span><span>Inheritance:</span><span> </span><span style=\"background-color: #ffdce0\">\n",
              " - mtDNA is only</span><span> </span><span>inherited</span><span> </span><span>from the mother, as the mitochondria in sperm cells are usually destroyed after</span><span> </span><span style=\"background-color: #ffdce0\">fertilization \n",
              " -</span><span> </span><span>nDNA is inherited from both parents, with half coming from the mother and half from the</span><span> </span><span style=\"background-color: #ffdce0\">father \n",
              " \n",
              "</span><span> </span><span>Amount:</span><span> </span><span style=\"background-color: #ffdce0\">\n",
              " -</span><span> </span><span>There are hundreds to thousands of mitochondria per cell,</span><span> </span><span>each</span><span> </span><span style=\"background-color: #ffdce0\">containing</span><span> </span><span>several copies of</span><span> </span><span style=\"background-color: #ffdce0\">mtDNA \n",
              " - There</span><span> </span><span>are only two copies of nDNA in each cell nucleus</span><span> </span><span style=\"background-color: #ffdce0\">-</span><span> </span><span>one</span><span> </span><span style=\"background-color: #ffdce0\">from each parent \n",
              " \n",
              "</span><span> </span><span>Genes:</span><span> </span><span style=\"background-color: #ffdce0\">\n",
              " -</span><span> </span><span>mtDNA contains</span><span> </span><span>37 genes, all</span><span> </span><span style=\"background-color: #ffdce0\">involved in energy production \n",
              " -</span><span> </span><span>nDNA contains around 20,000-25,000 genes that code for</span><span> </span><span>proteins</span><span> </span><span style=\"background-color: #ffdce0\">involved in all cellular functions \n",
              " \n",
              "</span><span> </span><span>Mutation rate:</span><span> </span><span style=\"background-color: #ffdce0\">\n",
              " -</span><span> </span><span>mtDNA has a</span><span> </span><span>higher mutation rate than</span><span> </span><span style=\"background-color: #ffdce0\">nDNA \n",
              " - Mutations in mtDNA can lead</span><span> </span><span>to</span><span> </span><span>mitochondrial</span><span> </span><span style=\"background-color: #ffdce0\">disorders \n",
              " \n",
              " So in summary, the key differences are in their location, mode of inheritance, amount per cell, the genes they contain, and their mutation rates. Both are important for proper cell function, but mtDNA is specialized for the cell's energy needs.</span>\n",
              "                </div>\n",
              "            </div>\n",
              "            <div>\n",
              "                <div style=\"color: #666; margin-bottom: 3px;\">+ Modified (double_space): Explain  the  difference  between  mitochondrial  DNA  and  nuclear  DNA</div>\n",
              "                <div style=\"border: 1px solid #d0d7de; padding: 8px; border-radius: 4px;\">\n",
              "                    <span>There are a few key differences between mitochondrial DNA (mtDNA) and nuclear DNA (nDNA): \n",
              " \n",
              "</span><span> </span><span style=\"background-color: #cdffd8\">1.</span><span> </span><span>Location:</span><span> </span><span>mtDNA is found in the mitochondria, the cell's energy-producing</span><span> </span><span style=\"background-color: #cdffd8\">organelles, while nDNA is</span><span> </span><span>located in the</span><span> </span><span>nucleus of the</span><span> </span><span style=\"background-color: #cdffd8\">cell. \n",
              " \n",
              " 2.</span><span> </span><span>Inheritance:</span><span> </span><span style=\"background-color: #cdffd8\">mtDNA is</span><span> </span><span>inherited</span><span> </span><span style=\"background-color: #cdffd8\">exclusively</span><span> </span><span>from the mother, as the mitochondria in sperm cells are usually destroyed after</span><span> </span><span style=\"background-color: #cdffd8\">fertilization. In contrast,</span><span> </span><span>nDNA is inherited from both parents, with half coming from the mother and half from the</span><span> </span><span style=\"background-color: #cdffd8\">father. \n",
              " \n",
              " 3.</span><span> </span><span>Amount:</span><span> </span><span>There are hundreds to thousands of mitochondria per cell,</span><span> </span><span style=\"background-color: #cdffd8\">and</span><span> </span><span>each</span><span> </span><span style=\"background-color: #cdffd8\">mitochondrion contains</span><span> </span><span>several copies of</span><span> </span><span style=\"background-color: #cdffd8\">mtDNA. In comparison, there</span><span> </span><span>are only two copies of nDNA in each cell nucleus</span><span> </span><span style=\"background-color: #cdffd8\">(except for egg and sperm cells which have</span><span> </span><span>one</span><span> </span><span style=\"background-color: #cdffd8\">copy). \n",
              " \n",
              " 4.</span><span> </span><span>Genes:</span><span> </span><span>mtDNA contains</span><span> </span><span style=\"background-color: #cdffd8\">only</span><span> </span><span>37 genes, all</span><span> </span><span style=\"background-color: #cdffd8\">of which are essential for the function of the mitochondria.</span><span> </span><span>nDNA contains around 20,000-25,000 genes that code for</span><span> </span><span style=\"background-color: #cdffd8\">all the other</span><span> </span><span>proteins</span><span> </span><span style=\"background-color: #cdffd8\">in the body. \n",
              " \n",
              " 5.</span><span> </span><span>Mutation rate:</span><span> </span><span>mtDNA has a</span><span> </span><span style=\"background-color: #cdffd8\">much</span><span> </span><span>higher mutation rate than</span><span> </span><span style=\"background-color: #cdffd8\">nDNA. This is thought</span><span> </span><span>to</span><span> </span><span style=\"background-color: #cdffd8\">be because of the high levels of reactive oxygen species generated in the mitochondria. \n",
              " \n",
              " 6. Recombination: nDNA undergoes recombination during meiosis, while mtDNA generally does not. This means mtDNA is passed down unchanged from mother to offspring, barring mutations. \n",
              " \n",
              " Understanding these differences is important for genetic studies, especially those involving maternal lineage tracing or</span><span> </span><span>mitochondrial</span><span> </span><span style=\"background-color: #cdffd8\">disorders. Let me know if you have any other questions!</span>\n",
              "                </div>\n",
              "            </div>\n",
              "        </div>\n",
              "        "
            ]
          },
          "metadata": {}
        },
        {
          "output_type": "display_data",
          "data": {
            "text/plain": [
              "<IPython.core.display.HTML object>"
            ],
            "text/html": [
              "\n",
              "        <div style=\"margin: 20px 0; padding: 10px; background-color: #f6f8fa; border-radius: 4px;\">\n",
              "            <strong>Experiment 5</strong><br>\n",
              "            Base Prompt: Design a database schema for a library management system\n",
              "        </div>\n",
              "        "
            ]
          },
          "metadata": {}
        },
        {
          "output_type": "display_data",
          "data": {
            "text/plain": [
              "<IPython.core.display.HTML object>"
            ],
            "text/html": [
              "\n",
              "        <div style=\"font-family: monospace; white-space: pre-wrap;\">\n",
              "            <div style=\"margin-bottom: 10px;\">\n",
              "                <div style=\"color: #666; margin-bottom: 3px;\">- Original (original): Design a database schema for a library management system</div>\n",
              "                <div style=\"border: 1px solid #d0d7de; padding: 8px; border-radius: 4px;\">\n",
              "                    <span style=\"background-color: #ffdce0\">Here is</span><span> </span><span>a</span><span> </span><span style=\"background-color: #ffdce0\">suggested</span><span> </span><span>database schema for a library management system: \n",
              " \n",
              " ```sql \n",
              " CREATE TABLE</span><span> </span><span style=\"background-color: #ffdce0\">Book ( \n",
              " BookID INT PRIMARY KEY, \n",
              " Title</span><span> </span><span>VARCHAR(255), \n",
              "</span><span> </span><span style=\"background-color: #ffdce0\">Author</span><span> </span><span>VARCHAR(255), \n",
              "</span><span> </span><span style=\"background-color: #ffdce0\">ISBN VARCHAR(13), \n",
              " PublicationYear INT, \n",
              " Publisher</span><span> </span><span>VARCHAR(255), \n",
              "</span><span> </span><span style=\"background-color: #ffdce0\">Copies INT \n",
              " ); \n",
              " \n",
              " CREATE TABLE Member ( \n",
              " MemberID INT PRIMARY KEY, \n",
              " FirstName VARCHAR(255), \n",
              " LastName VARCHAR(255), \n",
              " Email VARCHAR(255), \n",
              " Phone VARCHAR(25), \n",
              " JoinDate</span><span> </span><span>DATE \n",
              " ); \n",
              " \n",
              " CREATE TABLE</span><span> </span><span style=\"background-color: #ffdce0\">Borrowing ( \n",
              " BorrowID INT PRIMARY KEY, \n",
              " BookID INT, \n",
              " MemberID INT, \n",
              " BorrowDate DATE, \n",
              " DueDate DATE, \n",
              " ReturnedDate DATE, \n",
              " FOREIGN KEY (BookID) REFERENCES Book(BookID), \n",
              " FOREIGN KEY (MemberID) REFERENCES Member(MemberID)</span><span> </span><span>\n",
              " ); \n",
              " ``` \n",
              " \n",
              "</span><span> </span><span style=\"background-color: #ffdce0\">The key tables are: \n",
              " \n",
              " 1. Book -</span><span> </span><span>stores details about each book</span><span> </span><span style=\"background-color: #ffdce0\">in the library's collection. The BookID is the primary key. Fields capture the</span><span> </span><span>title, author, ISBN, publication year,</span><span> </span><span style=\"background-color: #ffdce0\">publisher and number of copies. \n",
              " \n",
              " 2. Member - stores</span><span> </span><span>information about library members/patrons. The</span><span> </span><span style=\"background-color: #ffdce0\">MemberID</span><span> </span><span>is</span><span> </span><span>the</span><span> </span><span style=\"background-color: #ffdce0\">primary key. Captures name, contact details and join date. \n",
              " \n",
              " 3. Borrowing - tracks the lending of books to members. The BorrowID is the primary key. Foreign keys reference the Book and Member tables. Dates track when the</span><span> </span><span>book</span><span> </span><span style=\"background-color: #ffdce0\">was borrowed, due and returned. \n",
              " \n",
              " This provides a basic structure to manage the core entities and relationships for a library system. It can be extended with additional tables as needed, such as for tracking fines, reservations,</span><span> </span><span>etc. Indexes should</span><span> </span><span>be added on frequently</span><span> </span><span style=\"background-color: #ffdce0\">searched columns. Constraints and validation ensure referential integrity and data quality.</span>\n",
              "                </div>\n",
              "            </div>\n",
              "            <div>\n",
              "                <div style=\"color: #666; margin-bottom: 3px;\">+ Modified (double_space): Design  a  database  schema  for  a  library  management  system</div>\n",
              "                <div style=\"border: 1px solid #d0d7de; padding: 8px; border-radius: 4px;\">\n",
              "                    <span style=\"background-color: #cdffd8\">Here's</span><span> </span><span>a</span><span> </span><span style=\"background-color: #cdffd8\">potential</span><span> </span><span>database schema for a library management system: \n",
              " \n",
              " ```sql \n",
              " CREATE TABLE</span><span> </span><span style=\"background-color: #cdffd8\">books ( \n",
              " book_id INT PRIMARY KEY, \n",
              " title VARCHAR(255) NOT NULL, \n",
              " author</span><span> </span><span>VARCHAR(255), \n",
              "</span><span> </span><span style=\"background-color: #cdffd8\">isbn VARCHAR(13), \n",
              " publication_year INT, \n",
              " publisher</span><span> </span><span>VARCHAR(255), \n",
              "</span><span> </span><span style=\"background-color: #cdffd8\">num_pages INT \n",
              " ); \n",
              " \n",
              " CREATE TABLE members ( \n",
              " member_id INT PRIMARY KEY, \n",
              " first_name VARCHAR(50) NOT NULL, \n",
              " last_name VARCHAR(50) NOT NULL, \n",
              " email</span><span> </span><span>VARCHAR(255), \n",
              "</span><span> </span><span style=\"background-color: #cdffd8\">phone VARCHAR(20), \n",
              " join_date</span><span> </span><span>DATE \n",
              " ); \n",
              " \n",
              " CREATE TABLE</span><span> </span><span style=\"background-color: #cdffd8\">loans ( \n",
              " loan_id INT PRIMARY KEY, \n",
              " book_id INT, \n",
              " member_id INT, \n",
              " loan_date DATE, \n",
              " due_date DATE, \n",
              " return_date DATE, \n",
              " FOREIGN KEY (book_id) REFERENCES books(book_id), \n",
              " FOREIGN KEY (member_id) REFERENCES members(member_id) \n",
              " ); \n",
              " \n",
              " CREATE TABLE reservations ( \n",
              " reservation_id INT PRIMARY KEY, \n",
              " book_id INT, \n",
              " member_id INT, \n",
              " reservation_date DATE, \n",
              " FOREIGN KEY (book_id) REFERENCES books(book_id), \n",
              " FOREIGN KEY (member_id) REFERENCES members(member_id)</span><span> </span><span>\n",
              " ); \n",
              " ``` \n",
              " \n",
              "</span><span> </span><span style=\"background-color: #cdffd8\">Key points: \n",
              " - The `books` table</span><span> </span><span>stores details about each book</span><span> </span><span style=\"background-color: #cdffd8\">like</span><span> </span><span>title, author, ISBN, publication year,</span><span> </span><span style=\"background-color: #cdffd8\">etc. The `book_id` is the primary key. \n",
              " - The `members` table contains</span><span> </span><span>information about library members/patrons. The</span><span> </span><span style=\"background-color: #cdffd8\">`member_id` uniquely identifies each member. \n",
              " - The `loans` table tracks books currently on loan. It references the `book_id` and `member_id` foreign keys. It captures loan dates, due dates and return dates. \n",
              " - The `reservations` table allows members to reserve books. It also references `book_id` and `member_id`. \n",
              " \n",
              " This</span><span> </span><span>is</span><span> </span><span style=\"background-color: #cdffd8\">a simplified schema to demonstrate</span><span> </span><span>the</span><span> </span><span style=\"background-color: #cdffd8\">key entities and relationships. Additional tables and fields could be added to handle things like late fees, multiple</span><span> </span><span>book</span><span> </span><span style=\"background-color: #cdffd8\">copies, member types/roles,</span><span> </span><span>etc. Indexes should</span><span> </span><span style=\"background-color: #cdffd8\">also</span><span> </span><span>be added on frequently</span><span> </span><span style=\"background-color: #cdffd8\">queried fields to optimize performance. \n",
              " \n",
              " Let me know if you have any other questions!</span>\n",
              "                </div>\n",
              "            </div>\n",
              "        </div>\n",
              "        "
            ]
          },
          "metadata": {}
        },
        {
          "output_type": "display_data",
          "data": {
            "text/plain": [
              "<IPython.core.display.HTML object>"
            ],
            "text/html": [
              "\n",
              "        <div style=\"margin: 20px 0; padding: 10px; background-color: #f6f8fa; border-radius: 4px;\">\n",
              "            <strong>Experiment 6</strong><br>\n",
              "            Base Prompt: Debug why my SELECT query with JOIN is slow\n",
              "        </div>\n",
              "        "
            ]
          },
          "metadata": {}
        },
        {
          "output_type": "display_data",
          "data": {
            "text/plain": [
              "<IPython.core.display.HTML object>"
            ],
            "text/html": [
              "\n",
              "        <div style=\"font-family: monospace; white-space: pre-wrap;\">\n",
              "            <div style=\"margin-bottom: 10px;\">\n",
              "                <div style=\"color: #666; margin-bottom: 3px;\">- Original (original): Debug why my SELECT query with JOIN is slow</div>\n",
              "                <div style=\"border: 1px solid #d0d7de; padding: 8px; border-radius: 4px;\">\n",
              "                    <span>To debug why your SELECT query with JOIN is slow, here are</span><span> </span><span style=\"background-color: #ffdce0\">a few things to check:</span><span> </span><span>\n",
              " \n",
              " 1. Examine the query execution plan to see if indexes are being used effectively. Look for table scans or unoptimized joins. You</span><span> </span><span style=\"background-color: #ffdce0\">may need to add indexes on join columns</span><span> </span><span>or</span><span> </span><span style=\"background-color: #ffdce0\">filter predicates.</span><span> </span><span>\n",
              " \n",
              " 2. Check the</span><span> </span><span style=\"background-color: #ffdce0\">cardinality estimates in the plan.</span><span> </span><span>If</span><span> </span><span style=\"background-color: #ffdce0\">estimates are way off from actual row counts,</span><span> </span><span>statistics</span><span> </span><span>may be out of date.</span><span> </span><span style=\"background-color: #ffdce0\">Update stats on relevant tables. \n",
              " \n",
              " 3. Look at I/O and CPU costs in the plan. High costs could indicate insufficient memory leading to disk spills. Tune memory configuration if needed. \n",
              " \n",
              " 4. Consider rewriting the query. Avoid SELECT *, specify only needed columns. Push predicates down to reduce rows flowing through joins. \n",
              " \n",
              " 5. For complex queries, break it into simpler steps using temp</span><span> </span><span>tables or</span><span> </span><span style=\"background-color: #ffdce0\">CTEs. This makes it easier to optimize each part. \n",
              " \n",
              " 6. Capture actual runtime metrics using extended events or traces. This gives you details on wait types, I/O, and execution times to pinpoint bottlenecks. \n",
              " \n",
              " 7. Test alternative join orders, join algorithms (hash, merge, loop) and see if</span><span> </span><span>performance</span><span> </span><span style=\"background-color: #ffdce0\">improves. The optimizer usually gets it right but not always.</span><span> </span><span>\n",
              " \n",
              " Let me know</span><span> </span><span style=\"background-color: #ffdce0\">more specifics</span><span> </span><span>about your</span><span> </span><span style=\"background-color: #ffdce0\">query and execution plan,</span><span> </span><span>and I can provide more targeted</span><span> </span><span style=\"background-color: #ffdce0\">advice to speed it up! Analyzing slow queries is an iterative process.</span>\n",
              "                </div>\n",
              "            </div>\n",
              "            <div>\n",
              "                <div style=\"color: #666; margin-bottom: 3px;\">+ Modified (double_space): Debug  why  my  SELECT  query  with  JOIN  is  slow</div>\n",
              "                <div style=\"border: 1px solid #d0d7de; padding: 8px; border-radius: 4px;\">\n",
              "                    <span>To debug why your SELECT query with JOIN is slow, here are</span><span> </span><span style=\"background-color: #cdffd8\">some steps to investigate:</span><span> </span><span>\n",
              " \n",
              " 1. Examine the query execution plan to see if indexes are being used effectively. Look for table scans or unoptimized joins. You</span><span> </span><span style=\"background-color: #cdffd8\">can use EXPLAIN</span><span> </span><span>or</span><span> </span><span style=\"background-color: #cdffd8\">EXPLAIN ANALYZE to get the query plan.</span><span> </span><span>\n",
              " \n",
              " 2. Check the</span><span> </span><span style=\"background-color: #cdffd8\">join conditions to make sure you are joining on indexed columns. Joining on unindexed columns will result in slow nested loops. \n",
              " \n",
              " 3. Look at the number of rows being returned by each table in the join.</span><span> </span><span>If</span><span> </span><span style=\"background-color: #cdffd8\">one table is returning a large portion of its rows, consider adding a filter condition to reduce the result set. \n",
              " \n",
              " 4. Inspect the JOIN order. SQL optimizers usually put the table returning the least rows first. If your query is joining tables in a suboptimal order, rewrite it. \n",
              " \n",
              " 5. Avoid SELECT * and only retrieve the columns you actually need. Selecting unnecessary data slows down data transfer. \n",
              " \n",
              " 6. Check for any subqueries that could be rewritten as JOINs instead. Subqueries can often perform worse. \n",
              " \n",
              " 7. Look for any functions, especially user-defined functions, being called on columns involved in JOIN conditions. These can prevent efficient index usage. \n",
              " \n",
              " 8. If joining many tables, consider breaking the query into smaller parts using temporary tables to reduce complexity. \n",
              " \n",
              " 9. Gather</span><span> </span><span>statistics</span><span> </span><span style=\"background-color: #cdffd8\">on the tables if they have changed substantially and the query plan</span><span> </span><span>may be out of date.</span><span> </span><span style=\"background-color: #cdffd8\">\n",
              " \n",
              " 10. As a last resort, consider denormalizing</span><span> </span><span>tables or</span><span> </span><span style=\"background-color: #cdffd8\">creating summary tables if JOINs are unavoidable but</span><span> </span><span>performance</span><span> </span><span style=\"background-color: #cdffd8\">is critical.</span><span> </span><span>\n",
              " \n",
              " Let me know</span><span> </span><span style=\"background-color: #cdffd8\">if you have any other details</span><span> </span><span>about your</span><span> </span><span style=\"background-color: #cdffd8\">specific query</span><span> </span><span>and I can provide more targeted</span><span> </span><span style=\"background-color: #cdffd8\">advice!</span>\n",
              "                </div>\n",
              "            </div>\n",
              "        </div>\n",
              "        "
            ]
          },
          "metadata": {}
        }
      ]
    },
    {
      "cell_type": "code",
      "source": [
        "# You can also create a comparison matrix for a specific experiment\n",
        "def display_variation_matrix(\n",
        "    experiment: PromptExperiment,\n",
        "    variations: Optional[List[str]] = None\n",
        ") -> None:\n",
        "    \"\"\"\n",
        "    Display a matrix of diffs between selected variations for a single experiment.\n",
        "\n",
        "    Args:\n",
        "        experiment: PromptExperiment object to analyze\n",
        "        variations: List of variation types to compare (None for all available)\n",
        "    \"\"\"\n",
        "    # If no variations specified, get all unique variation types\n",
        "    if variations is None:\n",
        "        variations = list(set(r[\"variation_type\"] for r in experiment.results))\n",
        "\n",
        "    # Display matrix header\n",
        "    display(HTML(f'''\n",
        "    <div style=\"margin: 20px 0; padding: 10px; background-color: #f6f8fa; border-radius: 4px;\">\n",
        "        <strong>Variation Matrix</strong><br>\n",
        "        Base Prompt: {experiment.base_prompt}<br>\n",
        "        Comparing variations: {\", \".join(variations)}\n",
        "    </div>\n",
        "    '''))\n",
        "\n",
        "    # Display diffs for each variation\n",
        "    for var_type in variations:\n",
        "        if var_type != \"original\":  # Skip comparing original to itself\n",
        "            display(experiment.display_diff(var_type))"
      ],
      "metadata": {
        "id": "rcpWfp5Oar0B"
      },
      "execution_count": 10,
      "outputs": []
    },
    {
      "cell_type": "code",
      "source": [
        "# Example usage:\n",
        "# Show all variations for experiment 1\n",
        "display_variation_matrix(experiments[1])"
      ],
      "metadata": {
        "colab": {
          "base_uri": "https://localhost:8080/",
          "height": 1000
        },
        "id": "-wT2JKujVvV1",
        "outputId": "618d77b5-7c36-4825-8860-5178925ac31e"
      },
      "execution_count": 11,
      "outputs": [
        {
          "output_type": "display_data",
          "data": {
            "text/plain": [
              "<IPython.core.display.HTML object>"
            ],
            "text/html": [
              "\n",
              "    <div style=\"margin: 20px 0; padding: 10px; background-color: #f6f8fa; border-radius: 4px;\">\n",
              "        <strong>Variation Matrix</strong><br>\n",
              "        Base Prompt: Write a short poem about the moon<br>\n",
              "        Comparing variations: extra_space_start, extra_space_end, all_caps, no_spaces, add_period, add_question, double_space, original, add_exclamation, all_lower, extra_newline\n",
              "    </div>\n",
              "    "
            ]
          },
          "metadata": {}
        },
        {
          "output_type": "display_data",
          "data": {
            "text/plain": [
              "<IPython.core.display.HTML object>"
            ],
            "text/html": [
              "\n",
              "        <div style=\"font-family: monospace; white-space: pre-wrap;\">\n",
              "            <div style=\"margin-bottom: 10px;\">\n",
              "                <div style=\"color: #666; margin-bottom: 3px;\">- Original (original): Write a short poem about the moon</div>\n",
              "                <div style=\"border: 1px solid #d0d7de; padding: 8px; border-radius: 4px;\">\n",
              "                    <span>The moon, a gentle orb of</span><span> </span><span style=\"background-color: #ffdce0\">light</span><span> </span><span>\n",
              "</span><span> </span><span style=\"background-color: #ffdce0\">Illuminating</span><span> </span><span>the darkest</span><span> </span><span style=\"background-color: #ffdce0\">night</span><span> </span><span>\n",
              " Casting shadows, long and</span><span> </span><span style=\"background-color: #ffdce0\">deep</span><span> </span><span>\n",
              " A silent guardian as we</span><span> </span><span style=\"background-color: #ffdce0\">sleep</span><span> </span><span>\n",
              " \n",
              " Waxing, waning, ever</span><span> </span><span style=\"background-color: #ffdce0\">changing</span><span> </span><span>\n",
              " Through</span><span> </span><span style=\"background-color: #ffdce0\">starry skies, forever ranging</span><span> </span><span>\n",
              " Mysterious and enchanting, she \n",
              "</span><span> </span><span style=\"background-color: #ffdce0\">Pulls at hearts</span><span> </span><span>and</span><span> </span><span style=\"background-color: #ffdce0\">tides and dreams</span>\n",
              "                </div>\n",
              "            </div>\n",
              "            <div>\n",
              "                <div style=\"color: #666; margin-bottom: 3px;\">+ Modified (extra_space_start):  Write a short poem about the moon</div>\n",
              "                <div style=\"border: 1px solid #d0d7de; padding: 8px; border-radius: 4px;\">\n",
              "                    <span>The moon, a gentle orb of</span><span> </span><span style=\"background-color: #cdffd8\">light,</span><span> </span><span>\n",
              "</span><span> </span><span style=\"background-color: #cdffd8\">Illuminates</span><span> </span><span>the darkest</span><span> </span><span style=\"background-color: #cdffd8\">night.</span><span> </span><span>\n",
              " Casting shadows, long and</span><span> </span><span style=\"background-color: #cdffd8\">deep,</span><span> </span><span>\n",
              " A silent guardian as we</span><span> </span><span style=\"background-color: #cdffd8\">sleep.</span><span> </span><span>\n",
              " \n",
              " Waxing, waning, ever</span><span> </span><span style=\"background-color: #cdffd8\">changing,</span><span> </span><span>\n",
              " Through</span><span> </span><span style=\"background-color: #cdffd8\">the sky, slowly ranging.</span><span> </span><span>\n",
              " Mysterious and enchanting, she \n",
              "</span><span> </span><span style=\"background-color: #cdffd8\">Inspires dreams</span><span> </span><span>and</span><span> </span><span style=\"background-color: #cdffd8\">poetry.</span>\n",
              "                </div>\n",
              "            </div>\n",
              "        </div>\n",
              "        "
            ]
          },
          "metadata": {}
        },
        {
          "output_type": "display_data",
          "data": {
            "text/plain": [
              "<IPython.core.display.HTML object>"
            ],
            "text/html": [
              "\n",
              "        <div style=\"font-family: monospace; white-space: pre-wrap;\">\n",
              "            <div style=\"margin-bottom: 10px;\">\n",
              "                <div style=\"color: #666; margin-bottom: 3px;\">- Original (original): Write a short poem about the moon</div>\n",
              "                <div style=\"border: 1px solid #d0d7de; padding: 8px; border-radius: 4px;\">\n",
              "                    <span style=\"background-color: #ffdce0\">The moon, a gentle</span><span> </span><span>orb</span><span> </span><span style=\"background-color: #ffdce0\">of light \n",
              " Illuminating the darkest night</span><span> </span><span>\n",
              " Casting</span><span> </span><span style=\"background-color: #ffdce0\">shadows, long and deep</span><span> </span><span>\n",
              "</span><span> </span><span style=\"background-color: #ffdce0\">A silent guardian as we sleep</span><span> </span><span>\n",
              "</span><span> </span><span>\n",
              " Waxing, waning, ever</span><span> </span><span style=\"background-color: #ffdce0\">changing</span><span> </span><span>\n",
              "</span><span> </span><span style=\"background-color: #ffdce0\">Through starry skies, forever ranging</span><span> </span><span>\n",
              " Mysterious and</span><span> </span><span style=\"background-color: #ffdce0\">enchanting, she</span><span> </span><span>\n",
              "</span><span> </span><span style=\"background-color: #ffdce0\">Pulls at hearts and tides and dreams</span>\n",
              "                </div>\n",
              "            </div>\n",
              "            <div>\n",
              "                <div style=\"color: #666; margin-bottom: 3px;\">+ Modified (extra_space_end): Write a short poem about the moon </div>\n",
              "                <div style=\"border: 1px solid #d0d7de; padding: 8px; border-radius: 4px;\">\n",
              "                    <span style=\"background-color: #cdffd8\">Luminous</span><span> </span><span>orb</span><span> </span><span style=\"background-color: #cdffd8\">in darkened sky,</span><span> </span><span>\n",
              " Casting</span><span> </span><span style=\"background-color: #cdffd8\">light for watchful eye.</span><span> </span><span>\n",
              "</span><span> </span><span style=\"background-color: #cdffd8\">Celestial beacon shining bright,</span><span> </span><span>\n",
              "</span><span> </span><span style=\"background-color: #cdffd8\">Guiding travelers through the night.</span><span> </span><span>\n",
              " Waxing, waning, ever</span><span> </span><span style=\"background-color: #cdffd8\">changing,</span><span> </span><span>\n",
              "</span><span> </span><span style=\"background-color: #cdffd8\">Lunar face rearranging.</span><span> </span><span>\n",
              " Mysterious and</span><span> </span><span style=\"background-color: #cdffd8\">enchanting moon,</span><span> </span><span>\n",
              "</span><span> </span><span style=\"background-color: #cdffd8\">Humankind's eternal boon.</span>\n",
              "                </div>\n",
              "            </div>\n",
              "        </div>\n",
              "        "
            ]
          },
          "metadata": {}
        },
        {
          "output_type": "display_data",
          "data": {
            "text/plain": [
              "<IPython.core.display.HTML object>"
            ],
            "text/html": [
              "\n",
              "        <div style=\"font-family: monospace; white-space: pre-wrap;\">\n",
              "            <div style=\"margin-bottom: 10px;\">\n",
              "                <div style=\"color: #666; margin-bottom: 3px;\">- Original (original): Write a short poem about the moon</div>\n",
              "                <div style=\"border: 1px solid #d0d7de; padding: 8px; border-radius: 4px;\">\n",
              "                    <span style=\"background-color: #ffdce0\">The moon,</span><span> </span><span>a</span><span> </span><span style=\"background-color: #ffdce0\">gentle</span><span> </span><span>orb</span><span> </span><span style=\"background-color: #ffdce0\">of light \n",
              " Illuminating the darkest night</span><span> </span><span>\n",
              " Casting</span><span> </span><span style=\"background-color: #ffdce0\">shadows, long and deep</span><span> </span><span>\n",
              "</span><span> </span><span style=\"background-color: #ffdce0\">A silent guardian as we sleep</span><span> </span><span>\n",
              " \n",
              "</span><span> </span><span style=\"background-color: #ffdce0\">Waxing, waning, ever</span><span> </span><span>changing</span><span> </span><span style=\"background-color: #ffdce0\">\n",
              " Through starry skies, forever ranging \n",
              " Mysterious</span><span> </span><span>and</span><span> </span><span style=\"background-color: #ffdce0\">enchanting, she \n",
              " Pulls at hearts</span><span> </span><span>and</span><span> </span><span style=\"background-color: #ffdce0\">tides and dreams</span>\n",
              "                </div>\n",
              "            </div>\n",
              "            <div>\n",
              "                <div style=\"color: #666; margin-bottom: 3px;\">+ Modified (all_caps): WRITE A SHORT POEM ABOUT THE MOON</div>\n",
              "                <div style=\"border: 1px solid #d0d7de; padding: 8px; border-radius: 4px;\">\n",
              "                    <span style=\"background-color: #cdffd8\">Here's</span><span> </span><span>a</span><span> </span><span style=\"background-color: #cdffd8\">short poem about the moon: \n",
              " \n",
              " Luminous</span><span> </span><span>orb</span><span> </span><span style=\"background-color: #cdffd8\">in darkened sky,</span><span> </span><span>\n",
              " Casting</span><span> </span><span style=\"background-color: #cdffd8\">light from way up high.</span><span> </span><span>\n",
              "</span><span> </span><span style=\"background-color: #cdffd8\">Craters mark your silvered face, \n",
              " As through the night you gently race. \n",
              " Faithful friend of Earth below, \n",
              " In phases waxing, waning slow. \n",
              " Celestial beacon, shining bright, \n",
              " Fair Luna, goddess of the night.</span><span> </span><span>\n",
              " \n",
              "</span><span> </span><span style=\"background-color: #cdffd8\">This poem uses rhyming couplets to paint a picture of the moon as it appears in the night sky. It touches on the moon's appearance, movement,</span><span> </span><span>changing</span><span> </span><span style=\"background-color: #cdffd8\">phases,</span><span> </span><span>and</span><span> </span><span style=\"background-color: #cdffd8\">symbolic/mythological associations. Feel free to use this as inspiration or a starting point to craft your own poem about the moon. The key is to engage the senses</span><span> </span><span>and</span><span> </span><span style=\"background-color: #cdffd8\">emotions to capture something meaningful about this luminous subject.</span>\n",
              "                </div>\n",
              "            </div>\n",
              "        </div>\n",
              "        "
            ]
          },
          "metadata": {}
        },
        {
          "output_type": "display_data",
          "data": {
            "text/plain": [
              "<IPython.core.display.HTML object>"
            ],
            "text/html": [
              "\n",
              "        <div style=\"font-family: monospace; white-space: pre-wrap;\">\n",
              "            <div style=\"margin-bottom: 10px;\">\n",
              "                <div style=\"color: #666; margin-bottom: 3px;\">- Original (original): Write a short poem about the moon</div>\n",
              "                <div style=\"border: 1px solid #d0d7de; padding: 8px; border-radius: 4px;\">\n",
              "                    <span style=\"background-color: #ffdce0\">The moon,</span><span> </span><span>a</span><span> </span><span style=\"background-color: #ffdce0\">gentle</span><span> </span><span>orb</span><span> </span><span style=\"background-color: #ffdce0\">of light \n",
              " Illuminating the darkest night</span><span> </span><span>\n",
              " Casting</span><span> </span><span style=\"background-color: #ffdce0\">shadows, long and deep</span><span> </span><span>\n",
              "</span><span> </span><span style=\"background-color: #ffdce0\">A silent guardian as we sleep</span><span> </span><span>\n",
              " \n",
              "</span><span> </span><span style=\"background-color: #ffdce0\">Waxing, waning, ever changing \n",
              " Through starry skies, forever ranging \n",
              " Mysterious</span><span> </span><span>and</span><span> </span><span style=\"background-color: #ffdce0\">enchanting, she \n",
              " Pulls at hearts</span><span> </span><span>and</span><span> </span><span style=\"background-color: #ffdce0\">tides and dreams</span>\n",
              "                </div>\n",
              "            </div>\n",
              "            <div>\n",
              "                <div style=\"color: #666; margin-bottom: 3px;\">+ Modified (no_spaces): Writeashortpoemaboutthemoon</div>\n",
              "                <div style=\"border: 1px solid #d0d7de; padding: 8px; border-radius: 4px;\">\n",
              "                    <span style=\"background-color: #cdffd8\">Here's</span><span> </span><span>a</span><span> </span><span style=\"background-color: #cdffd8\">short poem about the moon: \n",
              " \n",
              " Luminous</span><span> </span><span>orb</span><span> </span><span style=\"background-color: #cdffd8\">in darkened sky,</span><span> </span><span>\n",
              " Casting</span><span> </span><span style=\"background-color: #cdffd8\">light from way up high.</span><span> </span><span>\n",
              "</span><span> </span><span style=\"background-color: #cdffd8\">Craters mark your silvery face, \n",
              " As through the heavens you do race. \n",
              " Faithful friend of Earth below, \n",
              " In cycles waxing, waning go. \n",
              " Celestial beacon shining bright, \n",
              " Fair Luna, goddess of the night.</span><span> </span><span>\n",
              " \n",
              "</span><span> </span><span style=\"background-color: #cdffd8\">How's that? I aimed to capture some key aspects of the moon - its luminous glow, cratered surface, cyclical phases,</span><span> </span><span>and</span><span> </span><span style=\"background-color: #cdffd8\">symbolic/mythological significance. The rhyming couplets</span><span> </span><span>and</span><span> </span><span style=\"background-color: #cdffd8\">regular meter give it a traditional poetic structure. Feel free to let me know if you'd like me to modify or expand the poem in any way. I'm happy to keep working on it with you until you're satisfied.</span>\n",
              "                </div>\n",
              "            </div>\n",
              "        </div>\n",
              "        "
            ]
          },
          "metadata": {}
        },
        {
          "output_type": "display_data",
          "data": {
            "text/plain": [
              "<IPython.core.display.HTML object>"
            ],
            "text/html": [
              "\n",
              "        <div style=\"font-family: monospace; white-space: pre-wrap;\">\n",
              "            <div style=\"margin-bottom: 10px;\">\n",
              "                <div style=\"color: #666; margin-bottom: 3px;\">- Original (original): Write a short poem about the moon</div>\n",
              "                <div style=\"border: 1px solid #d0d7de; padding: 8px; border-radius: 4px;\">\n",
              "                    <span>The moon, a</span><span> </span><span>gentle</span><span> </span><span style=\"background-color: #ffdce0\">orb of light</span><span> </span><span>\n",
              "</span><span> </span><span style=\"background-color: #ffdce0\">Illuminating the darkest night \n",
              " Casting shadows, long</span><span> </span><span>and</span><span> </span><span style=\"background-color: #ffdce0\">deep</span><span> </span><span>\n",
              " A</span><span> </span><span style=\"background-color: #ffdce0\">silent guardian as we sleep</span><span> </span><span>\n",
              "</span><span> </span><span style=\"background-color: #ffdce0\">\n",
              " Waxing, waning, ever changing \n",
              " Through starry skies, forever ranging \n",
              " Mysterious and enchanting, she \n",
              " Pulls at hearts and tides and dreams</span>\n",
              "                </div>\n",
              "            </div>\n",
              "            <div>\n",
              "                <div style=\"color: #666; margin-bottom: 3px;\">+ Modified (add_period): Write a short poem about the moon.</div>\n",
              "                <div style=\"border: 1px solid #d0d7de; padding: 8px; border-radius: 4px;\">\n",
              "                    <span>The moon, a</span><span> </span><span style=\"background-color: #cdffd8\">glowing orb on high, \n",
              " Illuminates the darkened sky. \n",
              " Its</span><span> </span><span>gentle</span><span> </span><span style=\"background-color: #cdffd8\">light, a guiding beam,</span><span> </span><span>\n",
              "</span><span> </span><span style=\"background-color: #cdffd8\">Inspires poets to muse</span><span> </span><span>and</span><span> </span><span style=\"background-color: #cdffd8\">dream.</span><span> </span><span>\n",
              " A</span><span> </span><span style=\"background-color: #cdffd8\">celestial wonder, ever bright,</span><span> </span><span>\n",
              "</span><span> </span><span style=\"background-color: #cdffd8\">Transforming dusk to enchanted night.</span>\n",
              "                </div>\n",
              "            </div>\n",
              "        </div>\n",
              "        "
            ]
          },
          "metadata": {}
        },
        {
          "output_type": "display_data",
          "data": {
            "text/plain": [
              "<IPython.core.display.HTML object>"
            ],
            "text/html": [
              "\n",
              "        <div style=\"font-family: monospace; white-space: pre-wrap;\">\n",
              "            <div style=\"margin-bottom: 10px;\">\n",
              "                <div style=\"color: #666; margin-bottom: 3px;\">- Original (original): Write a short poem about the moon</div>\n",
              "                <div style=\"border: 1px solid #d0d7de; padding: 8px; border-radius: 4px;\">\n",
              "                    <span>The moon, a gentle orb of</span><span> </span><span style=\"background-color: #ffdce0\">light</span><span> </span><span>\n",
              "</span><span> </span><span style=\"background-color: #ffdce0\">Illuminating</span><span> </span><span>the darkest</span><span> </span><span style=\"background-color: #ffdce0\">night</span><span> </span><span>\n",
              " Casting shadows, long and</span><span> </span><span style=\"background-color: #ffdce0\">deep</span><span> </span><span>\n",
              " A silent guardian as we</span><span> </span><span style=\"background-color: #ffdce0\">sleep</span><span> </span><span>\n",
              " \n",
              " Waxing, waning, ever</span><span> </span><span style=\"background-color: #ffdce0\">changing</span><span> </span><span>\n",
              " Through</span><span> </span><span style=\"background-color: #ffdce0\">starry skies, forever ranging</span><span> </span><span>\n",
              " Mysterious and enchanting, she \n",
              "</span><span> </span><span style=\"background-color: #ffdce0\">Pulls at hearts</span><span> </span><span>and</span><span> </span><span style=\"background-color: #ffdce0\">tides and dreams</span>\n",
              "                </div>\n",
              "            </div>\n",
              "            <div>\n",
              "                <div style=\"color: #666; margin-bottom: 3px;\">+ Modified (add_question): Write a short poem about the moon?</div>\n",
              "                <div style=\"border: 1px solid #d0d7de; padding: 8px; border-radius: 4px;\">\n",
              "                    <span>The moon, a gentle orb of</span><span> </span><span style=\"background-color: #cdffd8\">light,</span><span> </span><span>\n",
              "</span><span> </span><span style=\"background-color: #cdffd8\">Illuminates</span><span> </span><span>the darkest</span><span> </span><span style=\"background-color: #cdffd8\">night.</span><span> </span><span>\n",
              " Casting shadows, long and</span><span> </span><span style=\"background-color: #cdffd8\">deep,</span><span> </span><span>\n",
              " A silent guardian as we</span><span> </span><span style=\"background-color: #cdffd8\">sleep.</span><span> </span><span>\n",
              " \n",
              " Waxing, waning, ever</span><span> </span><span style=\"background-color: #cdffd8\">changing,</span><span> </span><span>\n",
              " Through</span><span> </span><span style=\"background-color: #cdffd8\">the sky, slowly ranging.</span><span> </span><span>\n",
              " Mysterious and enchanting, she \n",
              "</span><span> </span><span style=\"background-color: #cdffd8\">Inspires dreams</span><span> </span><span>and</span><span> </span><span style=\"background-color: #cdffd8\">poetry.</span>\n",
              "                </div>\n",
              "            </div>\n",
              "        </div>\n",
              "        "
            ]
          },
          "metadata": {}
        },
        {
          "output_type": "display_data",
          "data": {
            "text/plain": [
              "<IPython.core.display.HTML object>"
            ],
            "text/html": [
              "\n",
              "        <div style=\"font-family: monospace; white-space: pre-wrap;\">\n",
              "            <div style=\"margin-bottom: 10px;\">\n",
              "                <div style=\"color: #666; margin-bottom: 3px;\">- Original (original): Write a short poem about the moon</div>\n",
              "                <div style=\"border: 1px solid #d0d7de; padding: 8px; border-radius: 4px;\">\n",
              "                    <span style=\"background-color: #ffdce0\">The moon, a gentle</span><span> </span><span>orb</span><span> </span><span style=\"background-color: #ffdce0\">of light \n",
              " Illuminating the darkest night</span><span> </span><span>\n",
              " Casting</span><span> </span><span style=\"background-color: #ffdce0\">shadows, long and deep \n",
              " A silent guardian as we sleep \n",
              "</span><span> </span><span>\n",
              " Waxing, waning, ever</span><span> </span><span style=\"background-color: #ffdce0\">changing</span><span> </span><span>\n",
              "</span><span> </span><span style=\"background-color: #ffdce0\">Through starry skies, forever ranging</span><span> </span><span>\n",
              "</span><span> </span><span style=\"background-color: #ffdce0\">Mysterious and enchanting, she</span><span> </span><span>\n",
              "</span><span> </span><span style=\"background-color: #ffdce0\">Pulls at hearts and tides and dreams</span>\n",
              "                </div>\n",
              "            </div>\n",
              "            <div>\n",
              "                <div style=\"color: #666; margin-bottom: 3px;\">+ Modified (double_space): Write  a  short  poem  about  the  moon</div>\n",
              "                <div style=\"border: 1px solid #d0d7de; padding: 8px; border-radius: 4px;\">\n",
              "                    <span style=\"background-color: #cdffd8\">Luminous</span><span> </span><span>orb</span><span> </span><span style=\"background-color: #cdffd8\">in darkened skies,</span><span> </span><span>\n",
              " Casting</span><span> </span><span style=\"background-color: #cdffd8\">light on sleepy eyes.</span><span> </span><span>\n",
              " Waxing, waning, ever</span><span> </span><span style=\"background-color: #cdffd8\">changing,</span><span> </span><span>\n",
              "</span><span> </span><span style=\"background-color: #cdffd8\">Celestial beauty, so engaging.</span><span> </span><span>\n",
              "</span><span> </span><span style=\"background-color: #cdffd8\">Guiding lost souls through the night,</span><span> </span><span>\n",
              "</span><span> </span><span style=\"background-color: #cdffd8\">Faithful friend, a wondrous sight. \n",
              " Mysteries held in your pale glow, \n",
              " Lunar secrets we yearn to know.</span>\n",
              "                </div>\n",
              "            </div>\n",
              "        </div>\n",
              "        "
            ]
          },
          "metadata": {}
        },
        {
          "output_type": "display_data",
          "data": {
            "text/plain": [
              "<IPython.core.display.HTML object>"
            ],
            "text/html": [
              "\n",
              "        <div style=\"font-family: monospace; white-space: pre-wrap;\">\n",
              "            <div style=\"margin-bottom: 10px;\">\n",
              "                <div style=\"color: #666; margin-bottom: 3px;\">- Original (original): Write a short poem about the moon</div>\n",
              "                <div style=\"border: 1px solid #d0d7de; padding: 8px; border-radius: 4px;\">\n",
              "                    <span style=\"background-color: #ffdce0\">The</span><span> </span><span>moon, a</span><span> </span><span style=\"background-color: #ffdce0\">gentle orb of light \n",
              " Illuminating the darkest night \n",
              " Casting shadows, long and deep \n",
              " A silent guardian as we sleep \n",
              " \n",
              " Waxing, waning, ever changing \n",
              " Through starry skies, forever ranging \n",
              " Mysterious and enchanting, she \n",
              " Pulls at hearts and tides and dreams</span>\n",
              "                </div>\n",
              "            </div>\n",
              "            <div>\n",
              "                <div style=\"color: #666; margin-bottom: 3px;\">+ Modified (add_exclamation): Write a short poem about the moon!</div>\n",
              "                <div style=\"border: 1px solid #d0d7de; padding: 8px; border-radius: 4px;\">\n",
              "                    <span style=\"background-color: #cdffd8\">Luminous orb in darkened sky, \n",
              " Casting light from way up high. \n",
              " Craters mark your ancient face, \n",
              " As you move with silent grace. \n",
              " Waxing, waning through the night, \n",
              " Faithful</span><span> </span><span>moon, a</span><span> </span><span style=\"background-color: #cdffd8\">wondrous sight.</span>\n",
              "                </div>\n",
              "            </div>\n",
              "        </div>\n",
              "        "
            ]
          },
          "metadata": {}
        },
        {
          "output_type": "display_data",
          "data": {
            "text/plain": [
              "<IPython.core.display.HTML object>"
            ],
            "text/html": [
              "\n",
              "        <div style=\"font-family: monospace; white-space: pre-wrap;\">\n",
              "            <div style=\"margin-bottom: 10px;\">\n",
              "                <div style=\"color: #666; margin-bottom: 3px;\">- Original (original): Write a short poem about the moon</div>\n",
              "                <div style=\"border: 1px solid #d0d7de; padding: 8px; border-radius: 4px;\">\n",
              "                    <span>The moon, a gentle orb of</span><span> </span><span style=\"background-color: #ffdce0\">light</span><span> </span><span>\n",
              "</span><span> </span><span style=\"background-color: #ffdce0\">Illuminating</span><span> </span><span>the darkest</span><span> </span><span style=\"background-color: #ffdce0\">night</span><span> </span><span>\n",
              " Casting shadows, long and</span><span> </span><span style=\"background-color: #ffdce0\">deep</span><span> </span><span>\n",
              " A silent guardian as we</span><span> </span><span style=\"background-color: #ffdce0\">sleep</span><span> </span><span>\n",
              " \n",
              " Waxing, waning, ever</span><span> </span><span style=\"background-color: #ffdce0\">changing</span><span> </span><span>\n",
              " Through</span><span> </span><span style=\"background-color: #ffdce0\">starry skies, forever ranging</span><span> </span><span>\n",
              " Mysterious and enchanting, she \n",
              "</span><span> </span><span style=\"background-color: #ffdce0\">Pulls at hearts</span><span> </span><span>and</span><span> </span><span style=\"background-color: #ffdce0\">tides and dreams</span>\n",
              "                </div>\n",
              "            </div>\n",
              "            <div>\n",
              "                <div style=\"color: #666; margin-bottom: 3px;\">+ Modified (all_lower): write a short poem about the moon</div>\n",
              "                <div style=\"border: 1px solid #d0d7de; padding: 8px; border-radius: 4px;\">\n",
              "                    <span>The moon, a gentle orb of</span><span> </span><span style=\"background-color: #cdffd8\">light,</span><span> </span><span>\n",
              "</span><span> </span><span style=\"background-color: #cdffd8\">Illuminates</span><span> </span><span>the darkest</span><span> </span><span style=\"background-color: #cdffd8\">night.</span><span> </span><span>\n",
              " Casting shadows, long and</span><span> </span><span style=\"background-color: #cdffd8\">deep,</span><span> </span><span>\n",
              " A silent guardian as we</span><span> </span><span style=\"background-color: #cdffd8\">sleep.</span><span> </span><span>\n",
              " \n",
              " Waxing, waning, ever</span><span> </span><span style=\"background-color: #cdffd8\">changing,</span><span> </span><span>\n",
              " Through</span><span> </span><span style=\"background-color: #cdffd8\">the sky, slowly ranging.</span><span> </span><span>\n",
              " Mysterious and enchanting, she \n",
              "</span><span> </span><span style=\"background-color: #cdffd8\">Inspires dreams</span><span> </span><span>and</span><span> </span><span style=\"background-color: #cdffd8\">poetry.</span>\n",
              "                </div>\n",
              "            </div>\n",
              "        </div>\n",
              "        "
            ]
          },
          "metadata": {}
        },
        {
          "output_type": "display_data",
          "data": {
            "text/plain": [
              "<IPython.core.display.HTML object>"
            ],
            "text/html": [
              "\n",
              "        <div style=\"font-family: monospace; white-space: pre-wrap;\">\n",
              "            <div style=\"margin-bottom: 10px;\">\n",
              "                <div style=\"color: #666; margin-bottom: 3px;\">- Original (original): Write a short poem about the moon</div>\n",
              "                <div style=\"border: 1px solid #d0d7de; padding: 8px; border-radius: 4px;\">\n",
              "                    <span>The moon, a gentle orb of</span><span> </span><span style=\"background-color: #ffdce0\">light</span><span> </span><span>\n",
              "</span><span> </span><span style=\"background-color: #ffdce0\">Illuminating</span><span> </span><span>the darkest</span><span> </span><span style=\"background-color: #ffdce0\">night</span><span> </span><span>\n",
              " Casting shadows, long and</span><span> </span><span style=\"background-color: #ffdce0\">deep</span><span> </span><span>\n",
              " A silent guardian as we</span><span> </span><span style=\"background-color: #ffdce0\">sleep</span><span> </span><span>\n",
              " \n",
              " Waxing, waning, ever</span><span> </span><span style=\"background-color: #ffdce0\">changing</span><span> </span><span>\n",
              " Through starry skies, forever</span><span> </span><span style=\"background-color: #ffdce0\">ranging</span><span> </span><span>\n",
              "</span><span> </span><span style=\"background-color: #ffdce0\">Mysterious and enchanting, she</span><span> </span><span>\n",
              "</span><span> </span><span style=\"background-color: #ffdce0\">Pulls at hearts and tides and dreams</span>\n",
              "                </div>\n",
              "            </div>\n",
              "            <div>\n",
              "                <div style=\"color: #666; margin-bottom: 3px;\">+ Modified (extra_newline): \n",
              "Write a short poem about the moon\n",
              "</div>\n",
              "                <div style=\"border: 1px solid #d0d7de; padding: 8px; border-radius: 4px;\">\n",
              "                    <span>The moon, a gentle orb of</span><span> </span><span style=\"background-color: #cdffd8\">light,</span><span> </span><span>\n",
              "</span><span> </span><span style=\"background-color: #cdffd8\">Illuminates</span><span> </span><span>the darkest</span><span> </span><span style=\"background-color: #cdffd8\">night.</span><span> </span><span>\n",
              " Casting shadows, long and</span><span> </span><span style=\"background-color: #cdffd8\">deep,</span><span> </span><span>\n",
              " A silent guardian as we</span><span> </span><span style=\"background-color: #cdffd8\">sleep.</span><span> </span><span>\n",
              " \n",
              " Waxing, waning, ever</span><span> </span><span style=\"background-color: #cdffd8\">changing,</span><span> </span><span>\n",
              " Through starry skies, forever</span><span> </span><span style=\"background-color: #cdffd8\">ranging.</span><span> </span><span>\n",
              "</span><span> </span><span style=\"background-color: #cdffd8\">Celestial wonder, so serene,</span><span> </span><span>\n",
              "</span><span> </span><span style=\"background-color: #cdffd8\">Lovely luna, night's fair queen.</span>\n",
              "                </div>\n",
              "            </div>\n",
              "        </div>\n",
              "        "
            ]
          },
          "metadata": {}
        }
      ]
    },
    {
      "cell_type": "code",
      "source": [
        "# Show specific variations for experiment 1\n",
        "display_variation_matrix(\n",
        "    experiments[0],\n",
        "    variations=[\"extra_space_start\", \"all_caps\", \"add_period\"]\n",
        ")"
      ],
      "metadata": {
        "colab": {
          "base_uri": "https://localhost:8080/",
          "height": 1000
        },
        "id": "QYEnncjHbXu_",
        "outputId": "774e793d-e356-4987-b127-b4327162ef35"
      },
      "execution_count": 12,
      "outputs": [
        {
          "output_type": "display_data",
          "data": {
            "text/plain": [
              "<IPython.core.display.HTML object>"
            ],
            "text/html": [
              "\n",
              "    <div style=\"margin: 20px 0; padding: 10px; background-color: #f6f8fa; border-radius: 4px;\">\n",
              "        <strong>Variation Matrix</strong><br>\n",
              "        Base Prompt: Explain how photosynthesis works<br>\n",
              "        Comparing variations: extra_space_start, all_caps, add_period\n",
              "    </div>\n",
              "    "
            ]
          },
          "metadata": {}
        },
        {
          "output_type": "display_data",
          "data": {
            "text/plain": [
              "<IPython.core.display.HTML object>"
            ],
            "text/html": [
              "\n",
              "        <div style=\"font-family: monospace; white-space: pre-wrap;\">\n",
              "            <div style=\"margin-bottom: 10px;\">\n",
              "                <div style=\"color: #666; margin-bottom: 3px;\">- Original (original): Explain how photosynthesis works</div>\n",
              "                <div style=\"border: 1px solid #d0d7de; padding: 8px; border-radius: 4px;\">\n",
              "                    <span>Photosynthesis is the process by which plants use sunlight, water and carbon dioxide to create oxygen and energy in the form of sugar. \n",
              " \n",
              " Here's</span><span> </span><span style=\"background-color: #ffdce0\">a simple step-by-step of</span><span> </span><span>how it works: \n",
              " \n",
              " 1. The leaves of a plant absorb sunlight. Within the</span><span> </span><span style=\"background-color: #ffdce0\">leaves</span><span> </span><span>are small</span><span> </span><span style=\"background-color: #ffdce0\">structures called chloroplasts</span><span> </span><span>which contain a green pigment called chlorophyll. Chlorophyll is what allows plants to absorb</span><span> </span><span style=\"background-color: #ffdce0\">the</span><span> </span><span>energy from sunlight. \n",
              " \n",
              " 2. At the same time, the roots absorb water and</span><span> </span><span style=\"background-color: #ffdce0\">minerals from the soil. This water is transported</span><span> </span><span>up to the leaves through tubes</span><span> </span><span style=\"background-color: #ffdce0\">in the stem.</span><span> </span><span>\n",
              " \n",
              " 3. Small pores in the leaves called stomata open up to</span><span> </span><span style=\"background-color: #ffdce0\">allow</span><span> </span><span>carbon dioxide from the</span><span> </span><span style=\"background-color: #ffdce0\">air to enter.</span><span> </span><span>\n",
              " \n",
              " 4.</span><span> </span><span style=\"background-color: #ffdce0\">Using the absorbed</span><span> </span><span>sunlight</span><span> </span><span>as</span><span> </span><span style=\"background-color: #ffdce0\">energy, the chloroplasts convert the water and carbon dioxide into glucose (a type of sugar) and oxygen</span><span> </span><span>through</span><span> </span><span style=\"background-color: #ffdce0\">a series of chemical reactions. \n",
              " \n",
              " 5. The oxygen is released from the leaves back into the atmosphere, while the glucose is used by the plant as an energy source to fuel its growth and other life processes. Some of the glucose also gets stored in the plant. \n",
              " \n",
              " So in summary, the inputs for</span><span> </span><span>photosynthesis are</span><span> </span><span style=\"background-color: #ffdce0\">sunlight, water and carbon dioxide. The outputs</span><span> </span><span>are</span><span> </span><span style=\"background-color: #ffdce0\">glucose which feeds the plant, and oxygen which is released into the air</span><span> </span><span>for</span><span> </span><span style=\"background-color: #ffdce0\">us to breathe. Photosynthesis is a crucial process that sustains plant life and produces the oxygen that much of life</span><span> </span><span>on</span><span> </span><span style=\"background-color: #ffdce0\">Earth depends on.</span>\n",
              "                </div>\n",
              "            </div>\n",
              "            <div>\n",
              "                <div style=\"color: #666; margin-bottom: 3px;\">+ Modified (extra_space_start):  Explain how photosynthesis works</div>\n",
              "                <div style=\"border: 1px solid #d0d7de; padding: 8px; border-radius: 4px;\">\n",
              "                    <span>Photosynthesis is the process by which plants use sunlight, water and carbon dioxide to create oxygen and energy in the form of sugar. \n",
              " \n",
              " Here's</span><span> </span><span>how it works: \n",
              " \n",
              " 1. The leaves of a plant absorb sunlight. Within the</span><span> </span><span style=\"background-color: #cdffd8\">plant cells</span><span> </span><span>are small</span><span> </span><span style=\"background-color: #cdffd8\">organelles called chloroplasts,</span><span> </span><span>which contain a green pigment called chlorophyll. Chlorophyll is what allows plants to absorb</span><span> </span><span>energy from sunlight. \n",
              " \n",
              " 2. At the same time, the roots absorb water and</span><span> </span><span style=\"background-color: #cdffd8\">transport it</span><span> </span><span>up to the leaves through tubes</span><span> </span><span style=\"background-color: #cdffd8\">called xylem.</span><span> </span><span>\n",
              " \n",
              " 3. Small pores in the leaves called stomata open up to</span><span> </span><span style=\"background-color: #cdffd8\">collect</span><span> </span><span>carbon dioxide from the</span><span> </span><span style=\"background-color: #cdffd8\">air.</span><span> </span><span>\n",
              " \n",
              " 4.</span><span> </span><span style=\"background-color: #cdffd8\">Inside the chloroplasts, the energy from</span><span> </span><span>sunlight</span><span> </span><span style=\"background-color: #cdffd8\">is used to split the water molecules into hydrogen and oxygen. The oxygen is released from the leaves into the atmosphere. \n",
              " \n",
              " 5. The hydrogen from the water combines with the carbon dioxide using energy from the sunlight to create glucose, a simple sugar that the plant uses for energy. This chemical reaction is called photosynthesis. \n",
              " \n",
              " 6. The glucose is transported throughout the plant via tubes called phloem to be used for energy or stored</span><span> </span><span>as</span><span> </span><span style=\"background-color: #cdffd8\">starch. \n",
              " \n",
              " So in summary, plants take in sunlight, water and carbon dioxide, and</span><span> </span><span>through</span><span> </span><span>photosynthesis are</span><span> </span><span style=\"background-color: #cdffd8\">able to create their own food in the form of glucose, while also releasing oxygen as a byproduct. This is why plants</span><span> </span><span>are</span><span> </span><span style=\"background-color: #cdffd8\">so important, as they provide food and oxygen</span><span> </span><span>for</span><span> </span><span style=\"background-color: #cdffd8\">many other organisms</span><span> </span><span>on</span><span> </span><span style=\"background-color: #cdffd8\">Earth.</span>\n",
              "                </div>\n",
              "            </div>\n",
              "        </div>\n",
              "        "
            ]
          },
          "metadata": {}
        },
        {
          "output_type": "display_data",
          "data": {
            "text/plain": [
              "<IPython.core.display.HTML object>"
            ],
            "text/html": [
              "\n",
              "        <div style=\"font-family: monospace; white-space: pre-wrap;\">\n",
              "            <div style=\"margin-bottom: 10px;\">\n",
              "                <div style=\"color: #666; margin-bottom: 3px;\">- Original (original): Explain how photosynthesis works</div>\n",
              "                <div style=\"border: 1px solid #d0d7de; padding: 8px; border-radius: 4px;\">\n",
              "                    <span>Photosynthesis is the process by which plants use sunlight, water and carbon dioxide to create oxygen and energy in the form of sugar. \n",
              " \n",
              " Here's a simple step-by-step of how it works: \n",
              " \n",
              " 1. The leaves of a plant absorb sunlight. Within the leaves are</span><span> </span><span style=\"background-color: #ffdce0\">small structures called</span><span> </span><span>chloroplasts which contain a green pigment called chlorophyll. Chlorophyll is what allows plants to absorb</span><span> </span><span style=\"background-color: #ffdce0\">the energy from sunlight.</span><span> </span><span>\n",
              " \n",
              " 2. At the same time, the roots absorb water</span><span> </span><span style=\"background-color: #ffdce0\">and minerals from the soil. This water</span><span> </span><span>is transported</span><span> </span><span style=\"background-color: #ffdce0\">up to</span><span> </span><span>the leaves through</span><span> </span><span style=\"background-color: #ffdce0\">tubes in the stem. \n",
              " \n",
              " 3. Small</span><span> </span><span>pores</span><span> </span><span style=\"background-color: #ffdce0\">in the leaves</span><span> </span><span>called</span><span> </span><span style=\"background-color: #ffdce0\">stomata open up to allow</span><span> </span><span>carbon dioxide</span><span> </span><span style=\"background-color: #ffdce0\">from the air to enter. \n",
              " \n",
              " 4. Using the absorbed sunlight as energy, the chloroplasts convert the water and carbon dioxide</span><span> </span><span>into glucose (a type of sugar) and</span><span> </span><span>oxygen</span><span> </span><span style=\"background-color: #ffdce0\">through a series of chemical reactions. \n",
              " \n",
              " 5. The oxygen</span><span> </span><span>is released from the leaves</span><span> </span><span style=\"background-color: #ffdce0\">back</span><span> </span><span>into the</span><span> </span><span style=\"background-color: #ffdce0\">atmosphere, while the</span><span> </span><span>glucose is used by the plant as an energy source to fuel its growth and other life processes. Some of</span><span> </span><span style=\"background-color: #ffdce0\">the glucose</span><span> </span><span>also</span><span> </span><span style=\"background-color: #ffdce0\">gets</span><span> </span><span>stored</span><span> </span><span style=\"background-color: #ffdce0\">in the plant.</span><span> </span><span>\n",
              " \n",
              " So in summary, the inputs for photosynthesis are sunlight, water and carbon dioxide. The outputs are glucose</span><span> </span><span style=\"background-color: #ffdce0\">which feeds the plant, and oxygen which is released into the air</span><span> </span><span>for</span><span> </span><span style=\"background-color: #ffdce0\">us to breathe. Photosynthesis is a crucial process that sustains plant life and produces the oxygen that much of</span><span> </span><span>life on Earth</span><span> </span><span style=\"background-color: #ffdce0\">depends on.</span>\n",
              "                </div>\n",
              "            </div>\n",
              "            <div>\n",
              "                <div style=\"color: #666; margin-bottom: 3px;\">+ Modified (all_caps): EXPLAIN HOW PHOTOSYNTHESIS WORKS</div>\n",
              "                <div style=\"border: 1px solid #d0d7de; padding: 8px; border-radius: 4px;\">\n",
              "                    <span>Photosynthesis is the process by which plants use sunlight, water and carbon dioxide to create oxygen and energy in the form of sugar. \n",
              " \n",
              " Here's a simple step-by-step of how it works: \n",
              " \n",
              " 1. The leaves of a plant absorb sunlight. Within the leaves are</span><span> </span><span>chloroplasts which contain a green pigment called chlorophyll. Chlorophyll is what allows plants to absorb</span><span> </span><span style=\"background-color: #cdffd8\">energy from light.</span><span> </span><span>\n",
              " \n",
              " 2. At the same time, the roots absorb water</span><span> </span><span style=\"background-color: #cdffd8\">from the soil and this</span><span> </span><span>is transported</span><span> </span><span style=\"background-color: #cdffd8\">to the leaves. \n",
              " \n",
              " 3. Carbon dioxide enters</span><span> </span><span>the leaves through</span><span> </span><span style=\"background-color: #cdffd8\">tiny</span><span> </span><span>pores</span><span> </span><span>called</span><span> </span><span style=\"background-color: #cdffd8\">stomata. \n",
              " \n",
              " 4. Using the energy from sunlight, the absorbed water and</span><span> </span><span>carbon dioxide</span><span> </span><span style=\"background-color: #cdffd8\">are converted</span><span> </span><span>into glucose (a type of sugar) and</span><span> </span><span style=\"background-color: #cdffd8\">oxygen. This transformation takes place in the chloroplasts of the leaf cells. \n",
              " \n",
              " 5. The</span><span> </span><span>oxygen</span><span> </span><span>is released from the leaves</span><span> </span><span>into the</span><span> </span><span style=\"background-color: #cdffd8\">atmosphere. The</span><span> </span><span>glucose is used by the plant as an energy source to fuel its growth and other life processes. Some of</span><span> </span><span style=\"background-color: #cdffd8\">it is</span><span> </span><span>also</span><span> </span><span>stored</span><span> </span><span style=\"background-color: #cdffd8\">for later use.</span><span> </span><span>\n",
              " \n",
              " So in summary, the inputs for photosynthesis are sunlight, water and carbon dioxide. The outputs are glucose</span><span> </span><span style=\"background-color: #cdffd8\">(sugar) and oxygen. This process is vital</span><span> </span><span>for</span><span> </span><span>life on Earth</span><span> </span><span style=\"background-color: #cdffd8\">as it provides the oxygen we breathe and the foundation of most food chains.</span>\n",
              "                </div>\n",
              "            </div>\n",
              "        </div>\n",
              "        "
            ]
          },
          "metadata": {}
        },
        {
          "output_type": "display_data",
          "data": {
            "text/plain": [
              "<IPython.core.display.HTML object>"
            ],
            "text/html": [
              "\n",
              "        <div style=\"font-family: monospace; white-space: pre-wrap;\">\n",
              "            <div style=\"margin-bottom: 10px;\">\n",
              "                <div style=\"color: #666; margin-bottom: 3px;\">- Original (original): Explain how photosynthesis works</div>\n",
              "                <div style=\"border: 1px solid #d0d7de; padding: 8px; border-radius: 4px;\">\n",
              "                    <span>Photosynthesis is the process by which plants use sunlight, water and carbon dioxide to create oxygen and energy in the form of sugar. \n",
              " \n",
              " Here's a simple step-by-step of how it works: \n",
              " \n",
              " 1. The leaves of a plant absorb sunlight. Within the leaves are small structures called chloroplasts which contain a green pigment called chlorophyll. Chlorophyll is what allows plants to absorb the energy from sunlight. \n",
              " \n",
              " 2. At the same time, the roots absorb water and minerals from the soil. This water is transported up to the leaves through tubes in the stem. \n",
              " \n",
              " 3. Small pores in the leaves called stomata open up to</span><span> </span><span style=\"background-color: #ffdce0\">allow</span><span> </span><span>carbon dioxide from the</span><span> </span><span style=\"background-color: #ffdce0\">air to enter.</span><span> </span><span>\n",
              " \n",
              " 4.</span><span> </span><span style=\"background-color: #ffdce0\">Using the absorbed</span><span> </span><span>sunlight</span><span> </span><span style=\"background-color: #ffdce0\">as energy, the chloroplasts</span><span> </span><span>convert</span><span> </span><span style=\"background-color: #ffdce0\">the water and carbon dioxide into glucose (a type of sugar) and oxygen through a series of chemical reactions. \n",
              " \n",
              " 5. The oxygen is released from the leaves back into the atmosphere, while the glucose is used by the plant as an energy source to fuel its growth and other life processes. Some of the glucose also gets stored in the plant. \n",
              " \n",
              " So in summary, the inputs for photosynthesis are sunlight, water and carbon dioxide. The outputs are glucose which feeds the plant, and oxygen which is released into the air for us to breathe. Photosynthesis is a crucial process that sustains plant life and produces the</span><span> </span><span>oxygen that</span><span> </span><span style=\"background-color: #ffdce0\">much of</span><span> </span><span>life on</span><span> </span><span style=\"background-color: #ffdce0\">Earth depends on.</span>\n",
              "                </div>\n",
              "            </div>\n",
              "            <div>\n",
              "                <div style=\"color: #666; margin-bottom: 3px;\">+ Modified (add_period): Explain how photosynthesis works.</div>\n",
              "                <div style=\"border: 1px solid #d0d7de; padding: 8px; border-radius: 4px;\">\n",
              "                    <span>Photosynthesis is the process by which plants use sunlight, water and carbon dioxide to create oxygen and energy in the form of sugar. \n",
              " \n",
              " Here's a simple step-by-step of how it works: \n",
              " \n",
              " 1. The leaves of a plant absorb sunlight. Within the leaves are small structures called chloroplasts which contain a green pigment called chlorophyll. Chlorophyll is what allows plants to absorb the energy from sunlight. \n",
              " \n",
              " 2. At the same time, the roots absorb water and minerals from the soil. This water is transported up to the leaves through tubes in the stem. \n",
              " \n",
              " 3. Small pores in the leaves called stomata open up to</span><span> </span><span style=\"background-color: #cdffd8\">collect</span><span> </span><span>carbon dioxide from the</span><span> </span><span style=\"background-color: #cdffd8\">air.</span><span> </span><span>\n",
              " \n",
              " 4.</span><span> </span><span style=\"background-color: #cdffd8\">Inside the chloroplasts, the energy from the</span><span> </span><span>sunlight</span><span> </span><span style=\"background-color: #cdffd8\">is used to split the water molecules into hydrogen and oxygen. The oxygen is released from the leaves into the atmosphere. \n",
              " \n",
              " 5. The hydrogen from the water combines with the carbon dioxide using energy from the sunlight to create glucose, a simple sugar that the plant uses for energy. This chemical reaction is called photosynthesis. \n",
              " \n",
              " 6. The glucose is transported throughout the plant and used for growth, flower and fruit production, and is stored for later use. Some glucose is also converted into cellulose to make cell walls. \n",
              " \n",
              " So in summary, plants take in sunlight, water and carbon dioxide, and through photosynthesis</span><span> </span><span>convert</span><span> </span><span style=\"background-color: #cdffd8\">it into</span><span> </span><span>oxygen that</span><span> </span><span style=\"background-color: #cdffd8\">is released and sugars that feed the plant. This incredible process is the foundation for most</span><span> </span><span>life on</span><span> </span><span style=\"background-color: #cdffd8\">Earth!</span>\n",
              "                </div>\n",
              "            </div>\n",
              "        </div>\n",
              "        "
            ]
          },
          "metadata": {}
        }
      ]
    },
    {
      "cell_type": "markdown",
      "metadata": {
        "id": "aFVqj6i4onmU"
      },
      "source": [
        "## Analyze Results\n",
        "\n",
        "Now let's analyze the results to understand how different prompt variations affected the responses."
      ]
    },
    {
      "cell_type": "code",
      "execution_count": 13,
      "metadata": {
        "id": "XVPVwafVonmU",
        "colab": {
          "base_uri": "https://localhost:8080/",
          "height": 1000
        },
        "outputId": "e14d4f95-fa50-464e-bd90-aeeb981f9170"
      },
      "source": [
        "def analyze_experiment_results(experiments: List[PromptExperiment]):\n",
        "    '''Analyze results across all experiments'''\n",
        "    all_results = pd.concat([exp.analyze_results().assign(experiment_id=i) for i, exp in enumerate(experiments)])\n",
        "\n",
        "    # Basic statistics\n",
        "    print(\"=== Response Length Statistics ===\")\n",
        "    print(all_results.groupby('experiment_id')['response_length'].describe())\n",
        "\n",
        "    print(\"\\n=== Word Count Statistics ===\")\n",
        "    print(all_results.groupby('experiment_id')['word_count'].describe())\n",
        "\n",
        "    # Visualization\n",
        "    import matplotlib.pyplot as plt\n",
        "\n",
        "    plt.figure(figsize=(12, 6))\n",
        "    all_results.boxplot(column='response_length', by='experiment_id', rot=45)\n",
        "    plt.title('Response Length by Prompt Variation Type')\n",
        "    plt.show()\n",
        "\n",
        "    return all_results\n",
        "\n",
        "# Analyze results\n",
        "results_df = analyze_experiment_results(experiments)"
      ],
      "outputs": [
        {
          "output_type": "stream",
          "name": "stdout",
          "text": [
            "=== Response Length Statistics ===\n",
            "               count         mean         std     min     25%     50%     75%  \\\n",
            "experiment_id                                                                   \n",
            "0               11.0  1273.363636  125.496034  1097.0  1182.0  1246.0  1378.5   \n",
            "1               11.0   323.181818  183.447986   191.0   247.5   251.0   262.0   \n",
            "2               11.0  1439.090909  107.272042  1299.0  1380.5  1410.0  1488.5   \n",
            "3               11.0  1200.454545  240.512937   517.0  1233.5  1269.0  1277.0   \n",
            "4               11.0  1338.181818  122.780958  1204.0  1234.0  1319.0  1408.5   \n",
            "5               11.0  1660.909091  232.099743  1319.0  1514.0  1666.0  1764.5   \n",
            "6               11.0  1514.272727  275.374687   869.0  1410.5  1546.0  1666.5   \n",
            "\n",
            "                  max  \n",
            "experiment_id          \n",
            "0              1462.0  \n",
            "1               703.0  \n",
            "2              1687.0  \n",
            "3              1424.0  \n",
            "4              1588.0  \n",
            "5              2144.0  \n",
            "6              1926.0  \n",
            "\n",
            "=== Word Count Statistics ===\n",
            "               count        mean        std    min    25%    50%    75%    max\n",
            "experiment_id                                                                 \n",
            "0               11.0  216.090909  21.500951  186.0  201.5  207.0  235.0  252.0\n",
            "1               11.0   51.909091  32.116832   32.0   36.0   39.0   41.5  117.0\n",
            "2               11.0  221.727273  18.028261  197.0  208.0  214.0  236.5  255.0\n",
            "3               11.0  189.545455  37.529625   83.0  194.0  202.0  202.0  224.0\n",
            "4               11.0  211.181818  14.945355  190.0  201.5  209.0  216.5  242.0\n",
            "5               11.0  231.636364  25.601847  186.0  220.5  234.0  243.5  283.0\n",
            "6               11.0  251.363636  43.200168  147.0  230.5  259.0  278.0  300.0\n"
          ]
        },
        {
          "output_type": "display_data",
          "data": {
            "text/plain": [
              "<Figure size 1200x600 with 0 Axes>"
            ]
          },
          "metadata": {}
        },
        {
          "output_type": "display_data",
          "data": {
            "text/plain": [
              "<Figure size 640x480 with 1 Axes>"
            ],
            "image/png": "[encoded data removed]"
          },
          "metadata": {}
        }
      ]
    }
  ],
  "metadata": {
    "kernelspec": {
      "display_name": "Python 3",
      "language": "python",
      "name": "python3"
    },
    "language_info": {
      "codemirror_mode": {
        "name": "ipython",
        "version": 3
      },
      "file_extension": ".py",
      "mimetype": "text/x-python",
      "name": "python",
      "nbconvert_exporter": "python",
      "pygments_lexer": "ipython3",
      "version": "3.8.0"
    },
    "colab": {
      "provenance": [],
      "include_colab_link": true
    }
  },
  "nbformat": 4,
  "nbformat_minor": 0
}